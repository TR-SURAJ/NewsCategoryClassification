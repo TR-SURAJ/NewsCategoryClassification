{
 "cells": [
  {
   "cell_type": "code",
   "execution_count": 1,
   "metadata": {},
   "outputs": [],
   "source": [
    "import numpy as np\n",
    "import pandas as pd\n",
    "import spacy\n",
    "import json\n",
    "import re\n",
    "from sklearn.utils import shuffle\n",
    "from sklearn.metrics import accuracy_score\n",
    "from sklearn.metrics import confusion_matrix\n",
    "from sklearn.preprocessing import LabelEncoder\n",
    "from sklearn.model_selection import train_test_split\n",
    "from sklearn.preprocessing import LabelBinarizer\n",
    "from sklearn.naive_bayes import MultinomialNB\n",
    "from sklearn.naive_bayes import GaussianNB\n",
    "from sklearn.metrics import classification_report\n",
    "from sklearn.linear_model import LogisticRegression\n",
    "from sklearn.neighbors import KNeighborsClassifier\n",
    "from sklearn.model_selection import RandomizedSearchCV\n",
    "from sklearn.model_selection import GridSearchCV\n",
    "from sklearn.ensemble import RandomForestClassifier\n",
    "from nltk.stem import PorterStemmer\n",
    "from string import punctuation\n",
    "from sklearn.manifold import TSNE\n",
    "from nltk import word_tokenize\n",
    "from nltk.corpus import stopwords\n",
    "stop_words = stopwords.words('english')\n",
    "import seaborn as sns\n",
    "import matplotlib.pyplot as plt\n",
    "%matplotlib inline"
   ]
  },
  {
   "cell_type": "code",
   "execution_count": 2,
   "metadata": {},
   "outputs": [],
   "source": [
    "df = pd.read_json('News_Category_Dataset_v2.json', lines=True)"
   ]
  },
  {
   "cell_type": "code",
   "execution_count": 3,
   "metadata": {},
   "outputs": [
    {
     "data": {
      "text/html": [
       "<div>\n",
       "<style scoped>\n",
       "    .dataframe tbody tr th:only-of-type {\n",
       "        vertical-align: middle;\n",
       "    }\n",
       "\n",
       "    .dataframe tbody tr th {\n",
       "        vertical-align: top;\n",
       "    }\n",
       "\n",
       "    .dataframe thead th {\n",
       "        text-align: right;\n",
       "    }\n",
       "</style>\n",
       "<table border=\"1\" class=\"dataframe\">\n",
       "  <thead>\n",
       "    <tr style=\"text-align: right;\">\n",
       "      <th></th>\n",
       "      <th>category</th>\n",
       "      <th>headline</th>\n",
       "      <th>authors</th>\n",
       "      <th>link</th>\n",
       "      <th>short_description</th>\n",
       "      <th>date</th>\n",
       "    </tr>\n",
       "  </thead>\n",
       "  <tbody>\n",
       "    <tr>\n",
       "      <th>0</th>\n",
       "      <td>CRIME</td>\n",
       "      <td>There Were 2 Mass Shootings In Texas Last Week...</td>\n",
       "      <td>Melissa Jeltsen</td>\n",
       "      <td>https://www.huffingtonpost.com/entry/texas-ama...</td>\n",
       "      <td>She left her husband. He killed their children...</td>\n",
       "      <td>2018-05-26</td>\n",
       "    </tr>\n",
       "    <tr>\n",
       "      <th>1</th>\n",
       "      <td>ENTERTAINMENT</td>\n",
       "      <td>Will Smith Joins Diplo And Nicky Jam For The 2...</td>\n",
       "      <td>Andy McDonald</td>\n",
       "      <td>https://www.huffingtonpost.com/entry/will-smit...</td>\n",
       "      <td>Of course it has a song.</td>\n",
       "      <td>2018-05-26</td>\n",
       "    </tr>\n",
       "    <tr>\n",
       "      <th>2</th>\n",
       "      <td>ENTERTAINMENT</td>\n",
       "      <td>Hugh Grant Marries For The First Time At Age 57</td>\n",
       "      <td>Ron Dicker</td>\n",
       "      <td>https://www.huffingtonpost.com/entry/hugh-gran...</td>\n",
       "      <td>The actor and his longtime girlfriend Anna Ebe...</td>\n",
       "      <td>2018-05-26</td>\n",
       "    </tr>\n",
       "    <tr>\n",
       "      <th>3</th>\n",
       "      <td>ENTERTAINMENT</td>\n",
       "      <td>Jim Carrey Blasts 'Castrato' Adam Schiff And D...</td>\n",
       "      <td>Ron Dicker</td>\n",
       "      <td>https://www.huffingtonpost.com/entry/jim-carre...</td>\n",
       "      <td>The actor gives Dems an ass-kicking for not fi...</td>\n",
       "      <td>2018-05-26</td>\n",
       "    </tr>\n",
       "    <tr>\n",
       "      <th>4</th>\n",
       "      <td>ENTERTAINMENT</td>\n",
       "      <td>Julianna Margulies Uses Donald Trump Poop Bags...</td>\n",
       "      <td>Ron Dicker</td>\n",
       "      <td>https://www.huffingtonpost.com/entry/julianna-...</td>\n",
       "      <td>The \"Dietland\" actress said using the bags is ...</td>\n",
       "      <td>2018-05-26</td>\n",
       "    </tr>\n",
       "  </tbody>\n",
       "</table>\n",
       "</div>"
      ],
      "text/plain": [
       "        category                                           headline  \\\n",
       "0          CRIME  There Were 2 Mass Shootings In Texas Last Week...   \n",
       "1  ENTERTAINMENT  Will Smith Joins Diplo And Nicky Jam For The 2...   \n",
       "2  ENTERTAINMENT    Hugh Grant Marries For The First Time At Age 57   \n",
       "3  ENTERTAINMENT  Jim Carrey Blasts 'Castrato' Adam Schiff And D...   \n",
       "4  ENTERTAINMENT  Julianna Margulies Uses Donald Trump Poop Bags...   \n",
       "\n",
       "           authors                                               link  \\\n",
       "0  Melissa Jeltsen  https://www.huffingtonpost.com/entry/texas-ama...   \n",
       "1    Andy McDonald  https://www.huffingtonpost.com/entry/will-smit...   \n",
       "2       Ron Dicker  https://www.huffingtonpost.com/entry/hugh-gran...   \n",
       "3       Ron Dicker  https://www.huffingtonpost.com/entry/jim-carre...   \n",
       "4       Ron Dicker  https://www.huffingtonpost.com/entry/julianna-...   \n",
       "\n",
       "                                   short_description       date  \n",
       "0  She left her husband. He killed their children... 2018-05-26  \n",
       "1                           Of course it has a song. 2018-05-26  \n",
       "2  The actor and his longtime girlfriend Anna Ebe... 2018-05-26  \n",
       "3  The actor gives Dems an ass-kicking for not fi... 2018-05-26  \n",
       "4  The \"Dietland\" actress said using the bags is ... 2018-05-26  "
      ]
     },
     "execution_count": 3,
     "metadata": {},
     "output_type": "execute_result"
    }
   ],
   "source": [
    "df.head()"
   ]
  },
  {
   "cell_type": "code",
   "execution_count": 4,
   "metadata": {},
   "outputs": [
    {
     "data": {
      "text/plain": [
       "(200853, 6)"
      ]
     },
     "execution_count": 4,
     "metadata": {},
     "output_type": "execute_result"
    }
   ],
   "source": [
    "df.shape"
   ]
  },
  {
   "cell_type": "code",
   "execution_count": 5,
   "metadata": {},
   "outputs": [],
   "source": [
    "df.drop(['authors','link','short_description','date'],inplace = True,axis = 1)"
   ]
  },
  {
   "cell_type": "code",
   "execution_count": 6,
   "metadata": {},
   "outputs": [
    {
     "data": {
      "text/html": [
       "<div>\n",
       "<style scoped>\n",
       "    .dataframe tbody tr th:only-of-type {\n",
       "        vertical-align: middle;\n",
       "    }\n",
       "\n",
       "    .dataframe tbody tr th {\n",
       "        vertical-align: top;\n",
       "    }\n",
       "\n",
       "    .dataframe thead th {\n",
       "        text-align: right;\n",
       "    }\n",
       "</style>\n",
       "<table border=\"1\" class=\"dataframe\">\n",
       "  <thead>\n",
       "    <tr style=\"text-align: right;\">\n",
       "      <th></th>\n",
       "      <th>category</th>\n",
       "      <th>headline</th>\n",
       "    </tr>\n",
       "  </thead>\n",
       "  <tbody>\n",
       "    <tr>\n",
       "      <th>0</th>\n",
       "      <td>CRIME</td>\n",
       "      <td>There Were 2 Mass Shootings In Texas Last Week...</td>\n",
       "    </tr>\n",
       "    <tr>\n",
       "      <th>1</th>\n",
       "      <td>ENTERTAINMENT</td>\n",
       "      <td>Will Smith Joins Diplo And Nicky Jam For The 2...</td>\n",
       "    </tr>\n",
       "  </tbody>\n",
       "</table>\n",
       "</div>"
      ],
      "text/plain": [
       "        category                                           headline\n",
       "0          CRIME  There Were 2 Mass Shootings In Texas Last Week...\n",
       "1  ENTERTAINMENT  Will Smith Joins Diplo And Nicky Jam For The 2..."
      ]
     },
     "execution_count": 6,
     "metadata": {},
     "output_type": "execute_result"
    }
   ],
   "source": [
    "df.head(2)"
   ]
  },
  {
   "cell_type": "markdown",
   "metadata": {},
   "source": [
    "### EDA"
   ]
  },
  {
   "cell_type": "code",
   "execution_count": 7,
   "metadata": {},
   "outputs": [
    {
     "data": {
      "text/plain": [
       "POLITICS          32739\n",
       "WELLNESS          17827\n",
       "ENTERTAINMENT     16058\n",
       "TRAVEL             9887\n",
       "STYLE & BEAUTY     9649\n",
       "PARENTING          8677\n",
       "HEALTHY LIVING     6694\n",
       "QUEER VOICES       6314\n",
       "FOOD & DRINK       6226\n",
       "BUSINESS           5937\n",
       "COMEDY             5175\n",
       "SPORTS             4884\n",
       "BLACK VOICES       4528\n",
       "HOME & LIVING      4195\n",
       "PARENTS            3955\n",
       "THE WORLDPOST      3664\n",
       "WEDDINGS           3651\n",
       "WOMEN              3490\n",
       "IMPACT             3459\n",
       "DIVORCE            3426\n",
       "CRIME              3405\n",
       "MEDIA              2815\n",
       "WEIRD NEWS         2670\n",
       "GREEN              2622\n",
       "WORLDPOST          2579\n",
       "RELIGION           2556\n",
       "STYLE              2254\n",
       "SCIENCE            2178\n",
       "WORLD NEWS         2177\n",
       "TASTE              2096\n",
       "TECH               2082\n",
       "MONEY              1707\n",
       "ARTS               1509\n",
       "FIFTY              1401\n",
       "GOOD NEWS          1398\n",
       "ARTS & CULTURE     1339\n",
       "ENVIRONMENT        1323\n",
       "COLLEGE            1144\n",
       "LATINO VOICES      1129\n",
       "CULTURE & ARTS     1030\n",
       "EDUCATION          1004\n",
       "Name: category, dtype: int64"
      ]
     },
     "execution_count": 7,
     "metadata": {},
     "output_type": "execute_result"
    }
   ],
   "source": [
    "df['category'].value_counts()"
   ]
  },
  {
   "cell_type": "code",
   "execution_count": 8,
   "metadata": {},
   "outputs": [
    {
     "data": {
      "image/png": "[encoded data removed]",
      "text/plain": [
       "<Figure size 864x864 with 1 Axes>"
      ]
     },
     "metadata": {},
     "output_type": "display_data"
    }
   ],
   "source": [
    "fig = plt.figure(figsize=(12,12))\n",
    "plt.pie(df['category'].value_counts().values, \n",
    "        labels=df['category'].value_counts().index,\n",
    "        autopct='%1.1f%%');"
   ]
  },
  {
   "cell_type": "code",
   "execution_count": 9,
   "metadata": {},
   "outputs": [],
   "source": [
    "df['headline_len'] = df['headline'].apply(lambda x: len(str(x).split())) "
   ]
  },
  {
   "cell_type": "code",
   "execution_count": 10,
   "metadata": {},
   "outputs": [
    {
     "data": {
      "text/plain": [
       "count    200853.000000\n",
       "mean          9.538563\n",
       "std           3.089320\n",
       "min           0.000000\n",
       "25%           7.000000\n",
       "50%          10.000000\n",
       "75%          12.000000\n",
       "max          44.000000\n",
       "Name: headline_len, dtype: float64"
      ]
     },
     "execution_count": 10,
     "metadata": {},
     "output_type": "execute_result"
    }
   ],
   "source": [
    "df['headline_len'].describe()"
   ]
  },
  {
   "cell_type": "code",
   "execution_count": 11,
   "metadata": {},
   "outputs": [
    {
     "name": "stderr",
     "output_type": "stream",
     "text": [
      "C:\\Users\\Suraj\\anaconda3\\envs\\tensorflowenv\\lib\\site-packages\\seaborn\\distributions.py:2551: FutureWarning: `distplot` is a deprecated function and will be removed in a future version. Please adapt your code to use either `displot` (a figure-level function with similar flexibility) or `histplot` (an axes-level function for histograms).\n",
      "  warnings.warn(msg, FutureWarning)\n"
     ]
    },
    {
     "data": {
      "image/png": "[encoded data removed]",
      "text/plain": [
       "<Figure size 432x288 with 1 Axes>"
      ]
     },
     "metadata": {
      "needs_background": "light"
     },
     "output_type": "display_data"
    }
   ],
   "source": [
    "sns.distplot(df['headline_len'])\n",
    "plt.title('headline Number of Words')\n",
    "plt.show()"
   ]
  },
  {
   "cell_type": "code",
   "execution_count": 12,
   "metadata": {},
   "outputs": [
    {
     "data": {
      "text/plain": [
       "category        0\n",
       "headline        0\n",
       "headline_len    0\n",
       "dtype: int64"
      ]
     },
     "execution_count": 12,
     "metadata": {},
     "output_type": "execute_result"
    }
   ],
   "source": [
    "df.isnull().sum()"
   ]
  },
  {
   "cell_type": "markdown",
   "metadata": {},
   "source": [
    "### Data Cleaning and processing"
   ]
  },
  {
   "cell_type": "code",
   "execution_count": 13,
   "metadata": {},
   "outputs": [
    {
     "data": {
      "text/plain": [
       "1398"
      ]
     },
     "execution_count": 13,
     "metadata": {},
     "output_type": "execute_result"
    }
   ],
   "source": [
    "df.duplicated().sum()"
   ]
  },
  {
   "cell_type": "code",
   "execution_count": 14,
   "metadata": {},
   "outputs": [],
   "source": [
    "df.drop_duplicates(keep='last', inplace=True)"
   ]
  },
  {
   "cell_type": "code",
   "execution_count": 15,
   "metadata": {},
   "outputs": [
    {
     "data": {
      "text/plain": [
       "0"
      ]
     },
     "execution_count": 15,
     "metadata": {},
     "output_type": "execute_result"
    }
   ],
   "source": [
    "df.duplicated().sum()"
   ]
  },
  {
   "cell_type": "code",
   "execution_count": 16,
   "metadata": {},
   "outputs": [
    {
     "data": {
      "text/plain": [
       "(199455, 3)"
      ]
     },
     "execution_count": 16,
     "metadata": {},
     "output_type": "execute_result"
    }
   ],
   "source": [
    "df.shape"
   ]
  },
  {
   "cell_type": "code",
   "execution_count": 17,
   "metadata": {},
   "outputs": [
    {
     "name": "stdout",
     "output_type": "stream",
     "text": [
      "6\n"
     ]
    }
   ],
   "source": [
    "print(len(df[df['headline'] == \"\"]))"
   ]
  },
  {
   "cell_type": "code",
   "execution_count": 18,
   "metadata": {},
   "outputs": [
    {
     "name": "stdout",
     "output_type": "stream",
     "text": [
      "0\n"
     ]
    }
   ],
   "source": [
    "df.loc[df['headline'] == \"\", 'headline'] = np.nan\n",
    "df.dropna(subset=['headline'], inplace=True)\n",
    "print(len(df[df['headline'] == \"\"]))"
   ]
  },
  {
   "cell_type": "code",
   "execution_count": 19,
   "metadata": {},
   "outputs": [
    {
     "data": {
      "text/plain": [
       "(199449, 3)"
      ]
     },
     "execution_count": 19,
     "metadata": {},
     "output_type": "execute_result"
    }
   ],
   "source": [
    "df.shape"
   ]
  },
  {
   "cell_type": "code",
   "execution_count": 20,
   "metadata": {},
   "outputs": [],
   "source": [
    "#Cleaning\n",
    "\n",
    "\n",
    "SPECIAL_TOKENS = {\n",
    "    'quoted': 'quoted_item',\n",
    "    'non-ascii': 'non_ascii_word',\n",
    "    'undefined': 'something'\n",
    "}\n",
    "\n",
    "\n",
    "def clean(text, stem_words=True):\n",
    "\n",
    "    \n",
    "    if pd.isnull(text):\n",
    "        return ''\n",
    "\n",
    "    if type(text) != str or text=='':\n",
    "        return ''\n",
    "    ps = PorterStemmer()\n",
    "    \n",
    "    text = re.sub(\"\\'s\", \" \", text) \n",
    "    text = re.sub(\" whats \", \" what is \", text, flags=re.IGNORECASE)\n",
    "    text = re.sub(\"\\'ve\", \" have \", text)\n",
    "    text = re.sub(\"can't\", \"can not\", text)\n",
    "    text = re.sub(\"n't\", \" not \", text)\n",
    "    text = re.sub(\"i'm\", \"i am\", text, flags=re.IGNORECASE)\n",
    "    text = re.sub(\"\\'re\", \" are \", text)\n",
    "    text = re.sub(\"\\'d\", \" would \", text)\n",
    "    text = re.sub(\"\\'ll\", \" will \", text)\n",
    "    text = re.sub(\"e\\.g\\.\", \" eg \", text, flags=re.IGNORECASE)\n",
    "    text = re.sub(\"b\\.g\\.\", \" bg \", text, flags=re.IGNORECASE)\n",
    "    text = re.sub(\"(\\d+)(kK)\", \" \\g<1>000 \", text)\n",
    "    text = re.sub(\"e-mail\", \" email \", text, flags=re.IGNORECASE)\n",
    "    text = re.sub(\"(the[\\s]+|The[\\s]+)?U\\.S\\.A\\.\", \" America \", text, flags=re.IGNORECASE)\n",
    "    text = re.sub(\"(the[\\s]+|The[\\s]+)?United State(s)?\", \" America \", text, flags=re.IGNORECASE)\n",
    "    text = re.sub(\"\\(s\\)\", \" \", text, flags=re.IGNORECASE)\n",
    "    text = re.sub(\"[c-fC-F]\\:\\/\", \" disk \", text)\n",
    "    \n",
    "    # remove comma between numbers, i.e. 15,000 -> 15000\n",
    "    \n",
    "    text = re.sub('(?<=[0-9])\\,(?=[0-9])', \"\", text)\n",
    "    text = re.sub('\\$', \" dollar \", text)\n",
    "    text = re.sub('\\%', \" percent \", text)\n",
    "    text = re.sub('\\&', \" and \", text)\n",
    "    \n",
    "       # Return a list of words\n",
    "    text = ' '.join([word for word in text.split(\" \") if word not in stop_words]).lower()\n",
    "    #text = ' '.join([ps.stem(word) for word in text])\n",
    "    return text"
   ]
  },
  {
   "cell_type": "code",
   "execution_count": 21,
   "metadata": {},
   "outputs": [],
   "source": [
    "df['headline'] = df['headline'].apply(clean)"
   ]
  },
  {
   "cell_type": "code",
   "execution_count": 22,
   "metadata": {},
   "outputs": [
    {
     "data": {
      "text/html": [
       "<div>\n",
       "<style scoped>\n",
       "    .dataframe tbody tr th:only-of-type {\n",
       "        vertical-align: middle;\n",
       "    }\n",
       "\n",
       "    .dataframe tbody tr th {\n",
       "        vertical-align: top;\n",
       "    }\n",
       "\n",
       "    .dataframe thead th {\n",
       "        text-align: right;\n",
       "    }\n",
       "</style>\n",
       "<table border=\"1\" class=\"dataframe\">\n",
       "  <thead>\n",
       "    <tr style=\"text-align: right;\">\n",
       "      <th></th>\n",
       "      <th>category</th>\n",
       "      <th>headline</th>\n",
       "      <th>headline_len</th>\n",
       "    </tr>\n",
       "  </thead>\n",
       "  <tbody>\n",
       "    <tr>\n",
       "      <th>0</th>\n",
       "      <td>CRIME</td>\n",
       "      <td>there were 2 mass shootings in texas last week...</td>\n",
       "      <td>14</td>\n",
       "    </tr>\n",
       "    <tr>\n",
       "      <th>1</th>\n",
       "      <td>ENTERTAINMENT</td>\n",
       "      <td>will smith joins diplo and nicky jam for the 2...</td>\n",
       "      <td>14</td>\n",
       "    </tr>\n",
       "    <tr>\n",
       "      <th>2</th>\n",
       "      <td>ENTERTAINMENT</td>\n",
       "      <td>hugh grant marries for the first time at age 57</td>\n",
       "      <td>10</td>\n",
       "    </tr>\n",
       "    <tr>\n",
       "      <th>3</th>\n",
       "      <td>ENTERTAINMENT</td>\n",
       "      <td>jim carrey blasts 'castrato' adam schiff and d...</td>\n",
       "      <td>11</td>\n",
       "    </tr>\n",
       "    <tr>\n",
       "      <th>4</th>\n",
       "      <td>ENTERTAINMENT</td>\n",
       "      <td>julianna margulies uses donald trump poop bags...</td>\n",
       "      <td>13</td>\n",
       "    </tr>\n",
       "  </tbody>\n",
       "</table>\n",
       "</div>"
      ],
      "text/plain": [
       "        category                                           headline  \\\n",
       "0          CRIME  there were 2 mass shootings in texas last week...   \n",
       "1  ENTERTAINMENT  will smith joins diplo and nicky jam for the 2...   \n",
       "2  ENTERTAINMENT    hugh grant marries for the first time at age 57   \n",
       "3  ENTERTAINMENT  jim carrey blasts 'castrato' adam schiff and d...   \n",
       "4  ENTERTAINMENT  julianna margulies uses donald trump poop bags...   \n",
       "\n",
       "   headline_len  \n",
       "0            14  \n",
       "1            14  \n",
       "2            10  \n",
       "3            11  \n",
       "4            13  "
      ]
     },
     "execution_count": 22,
     "metadata": {},
     "output_type": "execute_result"
    }
   ],
   "source": [
    "df.head()"
   ]
  },
  {
   "cell_type": "markdown",
   "metadata": {},
   "source": [
    "### Group similar news categories"
   ]
  },
  {
   "cell_type": "code",
   "execution_count": 23,
   "metadata": {},
   "outputs": [
    {
     "data": {
      "text/plain": [
       "Index(['POLITICS', 'WELLNESS', 'ENTERTAINMENT', 'TRAVEL', 'STYLE & BEAUTY',\n",
       "       'PARENTING', 'HEALTHY LIVING', 'QUEER VOICES', 'FOOD & DRINK',\n",
       "       'BUSINESS', 'COMEDY', 'SPORTS', 'BLACK VOICES', 'HOME & LIVING',\n",
       "       'PARENTS', 'THE WORLDPOST', 'WEDDINGS', 'IMPACT', 'DIVORCE', 'CRIME',\n",
       "       'WOMEN', 'MEDIA', 'WEIRD NEWS', 'GREEN', 'WORLDPOST', 'RELIGION',\n",
       "       'STYLE', 'SCIENCE', 'WORLD NEWS', 'TASTE', 'TECH', 'MONEY', 'ARTS',\n",
       "       'FIFTY', 'GOOD NEWS', 'ARTS & CULTURE', 'ENVIRONMENT', 'COLLEGE',\n",
       "       'LATINO VOICES', 'CULTURE & ARTS', 'EDUCATION'],\n",
       "      dtype='object')"
      ]
     },
     "execution_count": 23,
     "metadata": {},
     "output_type": "execute_result"
    }
   ],
   "source": [
    "df['category'].value_counts().index"
   ]
  },
  {
   "cell_type": "code",
   "execution_count": 24,
   "metadata": {},
   "outputs": [],
   "source": [
    "categories = df['category'].value_counts().index"
   ]
  },
  {
   "cell_type": "code",
   "execution_count": 25,
   "metadata": {},
   "outputs": [],
   "source": [
    "def groupnewscat(listofcat,newname):\n",
    "    for cat in categories:\n",
    "        if cat in listofcat:\n",
    "            df.loc[df['category'] == cat,'category'] = newname"
   ]
  },
  {
   "cell_type": "code",
   "execution_count": 26,
   "metadata": {},
   "outputs": [],
   "source": [
    "groupnewscat(listofcat = ['WELLNESS', 'HEALTHY LIVING','HOME & LIVING','STYLE & BEAUTY' ,'STYLE'],newname = 'LIFESTYLE AND WELLNESS')\n",
    "groupnewscat(listofcat = ['SPORTS','ENTERTAINMENT' , 'COMEDY','WEIRD NEWS','ARTS'],newname = 'SPORTS AND ENTERTAINMENT')\n",
    "groupnewscat(listofcat = ['TRAVEL', 'ARTS & CULTURE','CULTURE & ARTS','FOOD & DRINK', 'TASTE'],newname = 'TRAVEL-TOURISM AND ART-CULTURE')"
   ]
  },
  {
   "cell_type": "code",
   "execution_count": 27,
   "metadata": {},
   "outputs": [
    {
     "data": {
      "text/plain": [
       "LIFESTYLE AND WELLNESS            39962\n",
       "POLITICS                          32615\n",
       "SPORTS AND ENTERTAINMENT          30216\n",
       "TRAVEL-TOURISM AND ART-CULTURE    20526\n",
       "PARENTING                          8626\n",
       "QUEER VOICES                       6304\n",
       "BUSINESS                           5924\n",
       "BLACK VOICES                       4519\n",
       "PARENTS                            3890\n",
       "THE WORLDPOST                      3662\n",
       "WEDDINGS                           3592\n",
       "IMPACT                             3455\n",
       "DIVORCE                            3420\n",
       "CRIME                              3400\n",
       "WOMEN                              3375\n",
       "MEDIA                              2812\n",
       "GREEN                              2617\n",
       "WORLDPOST                          2578\n",
       "RELIGION                           2547\n",
       "SCIENCE                            2176\n",
       "WORLD NEWS                         2174\n",
       "TECH                               2027\n",
       "MONEY                              1705\n",
       "FIFTY                              1401\n",
       "GOOD NEWS                          1398\n",
       "ENVIRONMENT                        1251\n",
       "COLLEGE                            1144\n",
       "LATINO VOICES                      1129\n",
       "EDUCATION                          1004\n",
       "Name: category, dtype: int64"
      ]
     },
     "execution_count": 27,
     "metadata": {},
     "output_type": "execute_result"
    }
   ],
   "source": [
    "df['category'].value_counts()"
   ]
  },
  {
   "cell_type": "code",
   "execution_count": 28,
   "metadata": {},
   "outputs": [],
   "source": [
    "df = df[df['category'].isin(['LIFESTYLE AND WELLNESS','POLITICS','SPORTS AND ENTERTAINMENT','TRAVEL-TOURISM AND ART-CULTURE'])].copy()"
   ]
  },
  {
   "cell_type": "code",
   "execution_count": 29,
   "metadata": {},
   "outputs": [],
   "source": [
    "df.drop('headline_len',axis = 1,inplace = True)"
   ]
  },
  {
   "cell_type": "code",
   "execution_count": 30,
   "metadata": {},
   "outputs": [
    {
     "data": {
      "text/plain": [
       "LIFESTYLE AND WELLNESS            39962\n",
       "POLITICS                          32615\n",
       "SPORTS AND ENTERTAINMENT          30216\n",
       "TRAVEL-TOURISM AND ART-CULTURE    20526\n",
       "Name: category, dtype: int64"
      ]
     },
     "execution_count": 30,
     "metadata": {},
     "output_type": "execute_result"
    }
   ],
   "source": [
    "df['category'].value_counts()"
   ]
  },
  {
   "cell_type": "code",
   "execution_count": 31,
   "metadata": {},
   "outputs": [
    {
     "data": {
      "text/plain": [
       "(123319, 2)"
      ]
     },
     "execution_count": 31,
     "metadata": {},
     "output_type": "execute_result"
    }
   ],
   "source": [
    "df.shape"
   ]
  },
  {
   "cell_type": "code",
   "execution_count": 32,
   "metadata": {},
   "outputs": [
    {
     "data": {
      "text/html": [
       "<div>\n",
       "<style scoped>\n",
       "    .dataframe tbody tr th:only-of-type {\n",
       "        vertical-align: middle;\n",
       "    }\n",
       "\n",
       "    .dataframe tbody tr th {\n",
       "        vertical-align: top;\n",
       "    }\n",
       "\n",
       "    .dataframe thead th {\n",
       "        text-align: right;\n",
       "    }\n",
       "</style>\n",
       "<table border=\"1\" class=\"dataframe\">\n",
       "  <thead>\n",
       "    <tr style=\"text-align: right;\">\n",
       "      <th></th>\n",
       "      <th>category</th>\n",
       "      <th>headline</th>\n",
       "    </tr>\n",
       "  </thead>\n",
       "  <tbody>\n",
       "    <tr>\n",
       "      <th>1</th>\n",
       "      <td>SPORTS AND ENTERTAINMENT</td>\n",
       "      <td>will smith joins diplo and nicky jam for the 2...</td>\n",
       "    </tr>\n",
       "    <tr>\n",
       "      <th>2</th>\n",
       "      <td>SPORTS AND ENTERTAINMENT</td>\n",
       "      <td>hugh grant marries for the first time at age 57</td>\n",
       "    </tr>\n",
       "    <tr>\n",
       "      <th>3</th>\n",
       "      <td>SPORTS AND ENTERTAINMENT</td>\n",
       "      <td>jim carrey blasts 'castrato' adam schiff and d...</td>\n",
       "    </tr>\n",
       "    <tr>\n",
       "      <th>4</th>\n",
       "      <td>SPORTS AND ENTERTAINMENT</td>\n",
       "      <td>julianna margulies uses donald trump poop bags...</td>\n",
       "    </tr>\n",
       "    <tr>\n",
       "      <th>5</th>\n",
       "      <td>SPORTS AND ENTERTAINMENT</td>\n",
       "      <td>morgan freeman 'devastated' that sexual harass...</td>\n",
       "    </tr>\n",
       "    <tr>\n",
       "      <th>...</th>\n",
       "      <td>...</td>\n",
       "      <td>...</td>\n",
       "    </tr>\n",
       "    <tr>\n",
       "      <th>200842</th>\n",
       "      <td>TRAVEL-TOURISM AND ART-CULTURE</td>\n",
       "      <td>allard van hoorn  'urban songline' explores re...</td>\n",
       "    </tr>\n",
       "    <tr>\n",
       "      <th>200849</th>\n",
       "      <td>SPORTS AND ENTERTAINMENT</td>\n",
       "      <td>maria sharapova stunned by victoria azarenka i...</td>\n",
       "    </tr>\n",
       "    <tr>\n",
       "      <th>200850</th>\n",
       "      <td>SPORTS AND ENTERTAINMENT</td>\n",
       "      <td>giants over patriots, jets over colts among  m...</td>\n",
       "    </tr>\n",
       "    <tr>\n",
       "      <th>200851</th>\n",
       "      <td>SPORTS AND ENTERTAINMENT</td>\n",
       "      <td>aldon smith arrested: 49ers linebacker busted ...</td>\n",
       "    </tr>\n",
       "    <tr>\n",
       "      <th>200852</th>\n",
       "      <td>SPORTS AND ENTERTAINMENT</td>\n",
       "      <td>dwight howard rips teammates after magic loss ...</td>\n",
       "    </tr>\n",
       "  </tbody>\n",
       "</table>\n",
       "<p>123319 rows × 2 columns</p>\n",
       "</div>"
      ],
      "text/plain": [
       "                              category  \\\n",
       "1             SPORTS AND ENTERTAINMENT   \n",
       "2             SPORTS AND ENTERTAINMENT   \n",
       "3             SPORTS AND ENTERTAINMENT   \n",
       "4             SPORTS AND ENTERTAINMENT   \n",
       "5             SPORTS AND ENTERTAINMENT   \n",
       "...                                ...   \n",
       "200842  TRAVEL-TOURISM AND ART-CULTURE   \n",
       "200849        SPORTS AND ENTERTAINMENT   \n",
       "200850        SPORTS AND ENTERTAINMENT   \n",
       "200851        SPORTS AND ENTERTAINMENT   \n",
       "200852        SPORTS AND ENTERTAINMENT   \n",
       "\n",
       "                                                 headline  \n",
       "1       will smith joins diplo and nicky jam for the 2...  \n",
       "2         hugh grant marries for the first time at age 57  \n",
       "3       jim carrey blasts 'castrato' adam schiff and d...  \n",
       "4       julianna margulies uses donald trump poop bags...  \n",
       "5       morgan freeman 'devastated' that sexual harass...  \n",
       "...                                                   ...  \n",
       "200842  allard van hoorn  'urban songline' explores re...  \n",
       "200849  maria sharapova stunned by victoria azarenka i...  \n",
       "200850  giants over patriots, jets over colts among  m...  \n",
       "200851  aldon smith arrested: 49ers linebacker busted ...  \n",
       "200852  dwight howard rips teammates after magic loss ...  \n",
       "\n",
       "[123319 rows x 2 columns]"
      ]
     },
     "execution_count": 32,
     "metadata": {},
     "output_type": "execute_result"
    }
   ],
   "source": [
    "df"
   ]
  },
  {
   "cell_type": "code",
   "execution_count": 33,
   "metadata": {},
   "outputs": [],
   "source": [
    "df = shuffle(df)\n",
    "df.reset_index(inplace=True, drop=True) "
   ]
  },
  {
   "cell_type": "code",
   "execution_count": 34,
   "metadata": {},
   "outputs": [
    {
     "data": {
      "text/html": [
       "<div>\n",
       "<style scoped>\n",
       "    .dataframe tbody tr th:only-of-type {\n",
       "        vertical-align: middle;\n",
       "    }\n",
       "\n",
       "    .dataframe tbody tr th {\n",
       "        vertical-align: top;\n",
       "    }\n",
       "\n",
       "    .dataframe thead th {\n",
       "        text-align: right;\n",
       "    }\n",
       "</style>\n",
       "<table border=\"1\" class=\"dataframe\">\n",
       "  <thead>\n",
       "    <tr style=\"text-align: right;\">\n",
       "      <th></th>\n",
       "      <th>category</th>\n",
       "      <th>headline</th>\n",
       "    </tr>\n",
       "  </thead>\n",
       "  <tbody>\n",
       "    <tr>\n",
       "      <th>0</th>\n",
       "      <td>LIFESTYLE AND WELLNESS</td>\n",
       "      <td>special delivery</td>\n",
       "    </tr>\n",
       "    <tr>\n",
       "      <th>1</th>\n",
       "      <td>TRAVEL-TOURISM AND ART-CULTURE</td>\n",
       "      <td>how deal with lost restaurant reservation</td>\n",
       "    </tr>\n",
       "    <tr>\n",
       "      <th>2</th>\n",
       "      <td>SPORTS AND ENTERTAINMENT</td>\n",
       "      <td>nfl champs open season with anthem fail</td>\n",
       "    </tr>\n",
       "    <tr>\n",
       "      <th>3</th>\n",
       "      <td>TRAVEL-TOURISM AND ART-CULTURE</td>\n",
       "      <td>how decode wine label</td>\n",
       "    </tr>\n",
       "    <tr>\n",
       "      <th>4</th>\n",
       "      <td>POLITICS</td>\n",
       "      <td>daniel donovan, prosecutor who failed to indic...</td>\n",
       "    </tr>\n",
       "    <tr>\n",
       "      <th>...</th>\n",
       "      <td>...</td>\n",
       "      <td>...</td>\n",
       "    </tr>\n",
       "    <tr>\n",
       "      <th>123314</th>\n",
       "      <td>SPORTS AND ENTERTAINMENT</td>\n",
       "      <td>kellyanne conway has some thoughts on sean spi...</td>\n",
       "    </tr>\n",
       "    <tr>\n",
       "      <th>123315</th>\n",
       "      <td>LIFESTYLE AND WELLNESS</td>\n",
       "      <td>6 things your dreams can tell you about your h...</td>\n",
       "    </tr>\n",
       "    <tr>\n",
       "      <th>123316</th>\n",
       "      <td>POLITICS</td>\n",
       "      <td>hillary clinton  problem is  that she  not pro...</td>\n",
       "    </tr>\n",
       "    <tr>\n",
       "      <th>123317</th>\n",
       "      <td>SPORTS AND ENTERTAINMENT</td>\n",
       "      <td>taste sacred fools la</td>\n",
       "    </tr>\n",
       "    <tr>\n",
       "      <th>123318</th>\n",
       "      <td>POLITICS</td>\n",
       "      <td>the easiest way to improve test scores that ha...</td>\n",
       "    </tr>\n",
       "  </tbody>\n",
       "</table>\n",
       "<p>123319 rows × 2 columns</p>\n",
       "</div>"
      ],
      "text/plain": [
       "                              category  \\\n",
       "0               LIFESTYLE AND WELLNESS   \n",
       "1       TRAVEL-TOURISM AND ART-CULTURE   \n",
       "2             SPORTS AND ENTERTAINMENT   \n",
       "3       TRAVEL-TOURISM AND ART-CULTURE   \n",
       "4                             POLITICS   \n",
       "...                                ...   \n",
       "123314        SPORTS AND ENTERTAINMENT   \n",
       "123315          LIFESTYLE AND WELLNESS   \n",
       "123316                        POLITICS   \n",
       "123317        SPORTS AND ENTERTAINMENT   \n",
       "123318                        POLITICS   \n",
       "\n",
       "                                                 headline  \n",
       "0                                        special delivery  \n",
       "1               how deal with lost restaurant reservation  \n",
       "2                 nfl champs open season with anthem fail  \n",
       "3                                   how decode wine label  \n",
       "4       daniel donovan, prosecutor who failed to indic...  \n",
       "...                                                   ...  \n",
       "123314  kellyanne conway has some thoughts on sean spi...  \n",
       "123315  6 things your dreams can tell you about your h...  \n",
       "123316  hillary clinton  problem is  that she  not pro...  \n",
       "123317                              taste sacred fools la  \n",
       "123318  the easiest way to improve test scores that ha...  \n",
       "\n",
       "[123319 rows x 2 columns]"
      ]
     },
     "execution_count": 34,
     "metadata": {},
     "output_type": "execute_result"
    }
   ],
   "source": [
    "df"
   ]
  },
  {
   "cell_type": "code",
   "execution_count": 35,
   "metadata": {},
   "outputs": [
    {
     "data": {
      "image/png": "[encoded data removed]",
      "text/plain": [
       "<Figure size 864x864 with 1 Axes>"
      ]
     },
     "metadata": {},
     "output_type": "display_data"
    }
   ],
   "source": [
    "fig = plt.figure(figsize=(12,12))\n",
    "plt.pie(df['category'].value_counts().values, \n",
    "        labels=df['category'].value_counts().index,\n",
    "        autopct='%1.1f%%');"
   ]
  },
  {
   "cell_type": "code",
   "execution_count": 2,
   "metadata": {},
   "outputs": [],
   "source": [
    "import gensim\n",
    "import smart_open\n",
    "from gensim.models import Word2Vec"
   ]
  },
  {
   "cell_type": "code",
   "execution_count": 3,
   "metadata": {},
   "outputs": [],
   "source": [
    "model = gensim.models.KeyedVectors.load_word2vec_format('C:\\\\Users\\\\Suraj\\\\GoogleNews-vectors-negative300.bin.gz', binary=True)"
   ]
  },
  {
   "cell_type": "code",
   "execution_count": 4,
   "metadata": {},
   "outputs": [],
   "source": [
    "def sent2vec(s):\n",
    "    words = str(s).lower() #lower the sentence\n",
    "    words = word_tokenize(words) #tokenize the sentence\n",
    "    words = [w for w in words if not w in stop_words] #Filter out the stop words\n",
    "    words = [w for w in words if w.isalpha()] #Filter out non-alpha characters\n",
    "    M = []\n",
    "    for w in words:#loop through each word in the sentence\n",
    "        try:\n",
    "            M.append(model[w])#Gensim model converts each word in the sentence to a 300-dim vector space and appends to a list.\n",
    "        except:\n",
    "            continue\n",
    "    M = np.array(M) #convert the list to array. Shape = (num_of_words_in_sentence,300)\n",
    "    v = M.sum(axis=0) #Sum up along the num_of_words_in_sentence through 300-dim. Shape = (1,300) \n",
    "    return v / np.sqrt((v ** 2).sum()) #normalize the values with the sum"
   ]
  },
  {
   "cell_type": "code",
   "execution_count": 39,
   "metadata": {},
   "outputs": [
    {
     "name": "stderr",
     "output_type": "stream",
     "text": [
      "C:\\Users\\Suraj\\anaconda3\\envs\\tensorflowenv\\lib\\site-packages\\ipykernel_launcher.py:3: TqdmDeprecationWarning: This function will be removed in tqdm==5.0.0\n",
      "Please use `tqdm.notebook.tqdm` instead of `tqdm.tqdm_notebook`\n",
      "  This is separate from the ipykernel package so we can avoid doing imports until\n"
     ]
    },
    {
     "data": {
      "application/vnd.jupyter.widget-view+json": {
       "model_id": "7b6b9a680f9f45368ba1b805fa58bae1",
       "version_major": 2,
       "version_minor": 0
      },
      "text/plain": [
       "HBox(children=(HTML(value=''), FloatProgress(value=0.0, max=123319.0), HTML(value='')))"
      ]
     },
     "metadata": {},
     "output_type": "display_data"
    },
    {
     "name": "stderr",
     "output_type": "stream",
     "text": [
      "C:\\Users\\Suraj\\anaconda3\\envs\\tensorflowenv\\lib\\site-packages\\ipykernel_launcher.py:14: RuntimeWarning: invalid value encountered in double_scalars\n",
      "  \n"
     ]
    },
    {
     "name": "stdout",
     "output_type": "stream",
     "text": [
      "\n"
     ]
    }
   ],
   "source": [
    "from tqdm import tqdm_notebook \n",
    "headline_vector = np.zeros((df.shape[0], 300)) #vector matrix of shape = (num_of_rows,300) for question 1\n",
    "for i, q in enumerate(tqdm_notebook(df.headline.values)):\n",
    "    headline_vector[i, :] = sent2vec(q)"
   ]
  },
  {
   "cell_type": "code",
   "execution_count": 40,
   "metadata": {},
   "outputs": [],
   "source": [
    "tempX = pd.DataFrame(headline_vector)"
   ]
  },
  {
   "cell_type": "code",
   "execution_count": 41,
   "metadata": {},
   "outputs": [
    {
     "data": {
      "text/html": [
       "<div>\n",
       "<style scoped>\n",
       "    .dataframe tbody tr th:only-of-type {\n",
       "        vertical-align: middle;\n",
       "    }\n",
       "\n",
       "    .dataframe tbody tr th {\n",
       "        vertical-align: top;\n",
       "    }\n",
       "\n",
       "    .dataframe thead th {\n",
       "        text-align: right;\n",
       "    }\n",
       "</style>\n",
       "<table border=\"1\" class=\"dataframe\">\n",
       "  <thead>\n",
       "    <tr style=\"text-align: right;\">\n",
       "      <th></th>\n",
       "      <th>0</th>\n",
       "      <th>1</th>\n",
       "      <th>2</th>\n",
       "      <th>3</th>\n",
       "      <th>4</th>\n",
       "      <th>5</th>\n",
       "      <th>6</th>\n",
       "      <th>7</th>\n",
       "      <th>8</th>\n",
       "      <th>9</th>\n",
       "      <th>...</th>\n",
       "      <th>290</th>\n",
       "      <th>291</th>\n",
       "      <th>292</th>\n",
       "      <th>293</th>\n",
       "      <th>294</th>\n",
       "      <th>295</th>\n",
       "      <th>296</th>\n",
       "      <th>297</th>\n",
       "      <th>298</th>\n",
       "      <th>299</th>\n",
       "    </tr>\n",
       "  </thead>\n",
       "  <tbody>\n",
       "    <tr>\n",
       "      <th>0</th>\n",
       "      <td>-0.039386</td>\n",
       "      <td>0.042379</td>\n",
       "      <td>-0.031393</td>\n",
       "      <td>0.078908</td>\n",
       "      <td>-0.074386</td>\n",
       "      <td>-0.016122</td>\n",
       "      <td>0.009659</td>\n",
       "      <td>-0.056324</td>\n",
       "      <td>0.045236</td>\n",
       "      <td>-0.008571</td>\n",
       "      <td>...</td>\n",
       "      <td>0.038638</td>\n",
       "      <td>-0.134416</td>\n",
       "      <td>-0.018843</td>\n",
       "      <td>0.070065</td>\n",
       "      <td>0.085830</td>\n",
       "      <td>0.078636</td>\n",
       "      <td>-0.102172</td>\n",
       "      <td>0.010408</td>\n",
       "      <td>-0.030135</td>\n",
       "      <td>-0.037753</td>\n",
       "    </tr>\n",
       "    <tr>\n",
       "      <th>1</th>\n",
       "      <td>0.025818</td>\n",
       "      <td>-0.013682</td>\n",
       "      <td>0.021837</td>\n",
       "      <td>0.058051</td>\n",
       "      <td>-0.046843</td>\n",
       "      <td>0.054496</td>\n",
       "      <td>-0.046572</td>\n",
       "      <td>-0.054418</td>\n",
       "      <td>0.106518</td>\n",
       "      <td>0.043442</td>\n",
       "      <td>...</td>\n",
       "      <td>0.031383</td>\n",
       "      <td>0.027876</td>\n",
       "      <td>-0.028142</td>\n",
       "      <td>0.109068</td>\n",
       "      <td>0.058283</td>\n",
       "      <td>0.013682</td>\n",
       "      <td>-0.043249</td>\n",
       "      <td>-0.099561</td>\n",
       "      <td>0.036794</td>\n",
       "      <td>-0.054573</td>\n",
       "    </tr>\n",
       "    <tr>\n",
       "      <th>2</th>\n",
       "      <td>0.010420</td>\n",
       "      <td>0.038533</td>\n",
       "      <td>0.083061</td>\n",
       "      <td>0.083553</td>\n",
       "      <td>-0.023260</td>\n",
       "      <td>-0.108668</td>\n",
       "      <td>0.022049</td>\n",
       "      <td>-0.021601</td>\n",
       "      <td>0.093530</td>\n",
       "      <td>0.180234</td>\n",
       "      <td>...</td>\n",
       "      <td>0.088148</td>\n",
       "      <td>-0.041285</td>\n",
       "      <td>-0.060477</td>\n",
       "      <td>-0.123584</td>\n",
       "      <td>0.038293</td>\n",
       "      <td>0.013700</td>\n",
       "      <td>-0.033777</td>\n",
       "      <td>-0.113730</td>\n",
       "      <td>-0.004414</td>\n",
       "      <td>-0.054014</td>\n",
       "    </tr>\n",
       "    <tr>\n",
       "      <th>3</th>\n",
       "      <td>-0.001583</td>\n",
       "      <td>-0.048330</td>\n",
       "      <td>-0.059423</td>\n",
       "      <td>0.116162</td>\n",
       "      <td>-0.040500</td>\n",
       "      <td>0.123576</td>\n",
       "      <td>-0.033597</td>\n",
       "      <td>-0.068894</td>\n",
       "      <td>0.050010</td>\n",
       "      <td>0.003862</td>\n",
       "      <td>...</td>\n",
       "      <td>0.059626</td>\n",
       "      <td>0.005175</td>\n",
       "      <td>-0.017069</td>\n",
       "      <td>0.054026</td>\n",
       "      <td>0.008612</td>\n",
       "      <td>-0.126125</td>\n",
       "      <td>0.047114</td>\n",
       "      <td>-0.031705</td>\n",
       "      <td>0.052752</td>\n",
       "      <td>0.041900</td>\n",
       "    </tr>\n",
       "    <tr>\n",
       "      <th>4</th>\n",
       "      <td>0.012898</td>\n",
       "      <td>0.031927</td>\n",
       "      <td>0.029007</td>\n",
       "      <td>0.021951</td>\n",
       "      <td>-0.028630</td>\n",
       "      <td>-0.088917</td>\n",
       "      <td>-0.007211</td>\n",
       "      <td>0.001620</td>\n",
       "      <td>0.109752</td>\n",
       "      <td>0.044028</td>\n",
       "      <td>...</td>\n",
       "      <td>0.038723</td>\n",
       "      <td>0.003075</td>\n",
       "      <td>-0.046203</td>\n",
       "      <td>0.075983</td>\n",
       "      <td>-0.066244</td>\n",
       "      <td>-0.052001</td>\n",
       "      <td>0.032396</td>\n",
       "      <td>-0.151554</td>\n",
       "      <td>-0.021241</td>\n",
       "      <td>0.079173</td>\n",
       "    </tr>\n",
       "    <tr>\n",
       "      <th>...</th>\n",
       "      <td>...</td>\n",
       "      <td>...</td>\n",
       "      <td>...</td>\n",
       "      <td>...</td>\n",
       "      <td>...</td>\n",
       "      <td>...</td>\n",
       "      <td>...</td>\n",
       "      <td>...</td>\n",
       "      <td>...</td>\n",
       "      <td>...</td>\n",
       "      <td>...</td>\n",
       "      <td>...</td>\n",
       "      <td>...</td>\n",
       "      <td>...</td>\n",
       "      <td>...</td>\n",
       "      <td>...</td>\n",
       "      <td>...</td>\n",
       "      <td>...</td>\n",
       "      <td>...</td>\n",
       "      <td>...</td>\n",
       "      <td>...</td>\n",
       "    </tr>\n",
       "    <tr>\n",
       "      <th>123314</th>\n",
       "      <td>-0.043709</td>\n",
       "      <td>0.069829</td>\n",
       "      <td>-0.028236</td>\n",
       "      <td>0.093184</td>\n",
       "      <td>-0.059866</td>\n",
       "      <td>0.003687</td>\n",
       "      <td>-0.044574</td>\n",
       "      <td>-0.103206</td>\n",
       "      <td>0.109173</td>\n",
       "      <td>0.016676</td>\n",
       "      <td>...</td>\n",
       "      <td>0.044782</td>\n",
       "      <td>-0.024557</td>\n",
       "      <td>0.051536</td>\n",
       "      <td>-0.014036</td>\n",
       "      <td>0.037827</td>\n",
       "      <td>-0.142692</td>\n",
       "      <td>0.014051</td>\n",
       "      <td>-0.091709</td>\n",
       "      <td>-0.045092</td>\n",
       "      <td>0.003989</td>\n",
       "    </tr>\n",
       "    <tr>\n",
       "      <th>123315</th>\n",
       "      <td>-0.026650</td>\n",
       "      <td>0.054856</td>\n",
       "      <td>0.037534</td>\n",
       "      <td>0.055790</td>\n",
       "      <td>-0.007197</td>\n",
       "      <td>-0.012489</td>\n",
       "      <td>0.116676</td>\n",
       "      <td>-0.012323</td>\n",
       "      <td>0.030891</td>\n",
       "      <td>0.000141</td>\n",
       "      <td>...</td>\n",
       "      <td>-0.008540</td>\n",
       "      <td>0.025719</td>\n",
       "      <td>-0.065925</td>\n",
       "      <td>-0.113097</td>\n",
       "      <td>-0.071780</td>\n",
       "      <td>-0.022468</td>\n",
       "      <td>0.065633</td>\n",
       "      <td>-0.035754</td>\n",
       "      <td>0.089151</td>\n",
       "      <td>-0.030234</td>\n",
       "    </tr>\n",
       "    <tr>\n",
       "      <th>123316</th>\n",
       "      <td>0.051752</td>\n",
       "      <td>0.066187</td>\n",
       "      <td>0.006141</td>\n",
       "      <td>0.125868</td>\n",
       "      <td>-0.159261</td>\n",
       "      <td>-0.022141</td>\n",
       "      <td>-0.003015</td>\n",
       "      <td>0.022496</td>\n",
       "      <td>0.005333</td>\n",
       "      <td>0.009158</td>\n",
       "      <td>...</td>\n",
       "      <td>-0.027045</td>\n",
       "      <td>-0.017032</td>\n",
       "      <td>0.001173</td>\n",
       "      <td>-0.053121</td>\n",
       "      <td>-0.112075</td>\n",
       "      <td>-0.038612</td>\n",
       "      <td>-0.035320</td>\n",
       "      <td>-0.008348</td>\n",
       "      <td>0.014798</td>\n",
       "      <td>0.019210</td>\n",
       "    </tr>\n",
       "    <tr>\n",
       "      <th>123317</th>\n",
       "      <td>0.079187</td>\n",
       "      <td>0.051702</td>\n",
       "      <td>0.065859</td>\n",
       "      <td>0.123627</td>\n",
       "      <td>-0.071062</td>\n",
       "      <td>0.061689</td>\n",
       "      <td>0.065823</td>\n",
       "      <td>-0.058909</td>\n",
       "      <td>0.012152</td>\n",
       "      <td>0.061511</td>\n",
       "      <td>...</td>\n",
       "      <td>0.016251</td>\n",
       "      <td>-0.015396</td>\n",
       "      <td>-0.046187</td>\n",
       "      <td>0.024733</td>\n",
       "      <td>-0.042017</td>\n",
       "      <td>-0.030256</td>\n",
       "      <td>-0.003564</td>\n",
       "      <td>-0.111190</td>\n",
       "      <td>-0.021062</td>\n",
       "      <td>0.085531</td>\n",
       "    </tr>\n",
       "    <tr>\n",
       "      <th>123318</th>\n",
       "      <td>0.018407</td>\n",
       "      <td>0.063715</td>\n",
       "      <td>0.057265</td>\n",
       "      <td>0.004903</td>\n",
       "      <td>0.029943</td>\n",
       "      <td>0.040615</td>\n",
       "      <td>0.020609</td>\n",
       "      <td>-0.067071</td>\n",
       "      <td>0.040530</td>\n",
       "      <td>0.033549</td>\n",
       "      <td>...</td>\n",
       "      <td>-0.053188</td>\n",
       "      <td>0.066029</td>\n",
       "      <td>-0.054341</td>\n",
       "      <td>0.032513</td>\n",
       "      <td>-0.059244</td>\n",
       "      <td>0.044915</td>\n",
       "      <td>-0.007112</td>\n",
       "      <td>-0.016551</td>\n",
       "      <td>-0.029734</td>\n",
       "      <td>0.028921</td>\n",
       "    </tr>\n",
       "  </tbody>\n",
       "</table>\n",
       "<p>123319 rows × 300 columns</p>\n",
       "</div>"
      ],
      "text/plain": [
       "             0         1         2         3         4         5         6    \\\n",
       "0      -0.039386  0.042379 -0.031393  0.078908 -0.074386 -0.016122  0.009659   \n",
       "1       0.025818 -0.013682  0.021837  0.058051 -0.046843  0.054496 -0.046572   \n",
       "2       0.010420  0.038533  0.083061  0.083553 -0.023260 -0.108668  0.022049   \n",
       "3      -0.001583 -0.048330 -0.059423  0.116162 -0.040500  0.123576 -0.033597   \n",
       "4       0.012898  0.031927  0.029007  0.021951 -0.028630 -0.088917 -0.007211   \n",
       "...          ...       ...       ...       ...       ...       ...       ...   \n",
       "123314 -0.043709  0.069829 -0.028236  0.093184 -0.059866  0.003687 -0.044574   \n",
       "123315 -0.026650  0.054856  0.037534  0.055790 -0.007197 -0.012489  0.116676   \n",
       "123316  0.051752  0.066187  0.006141  0.125868 -0.159261 -0.022141 -0.003015   \n",
       "123317  0.079187  0.051702  0.065859  0.123627 -0.071062  0.061689  0.065823   \n",
       "123318  0.018407  0.063715  0.057265  0.004903  0.029943  0.040615  0.020609   \n",
       "\n",
       "             7         8         9    ...       290       291       292  \\\n",
       "0      -0.056324  0.045236 -0.008571  ...  0.038638 -0.134416 -0.018843   \n",
       "1      -0.054418  0.106518  0.043442  ...  0.031383  0.027876 -0.028142   \n",
       "2      -0.021601  0.093530  0.180234  ...  0.088148 -0.041285 -0.060477   \n",
       "3      -0.068894  0.050010  0.003862  ...  0.059626  0.005175 -0.017069   \n",
       "4       0.001620  0.109752  0.044028  ...  0.038723  0.003075 -0.046203   \n",
       "...          ...       ...       ...  ...       ...       ...       ...   \n",
       "123314 -0.103206  0.109173  0.016676  ...  0.044782 -0.024557  0.051536   \n",
       "123315 -0.012323  0.030891  0.000141  ... -0.008540  0.025719 -0.065925   \n",
       "123316  0.022496  0.005333  0.009158  ... -0.027045 -0.017032  0.001173   \n",
       "123317 -0.058909  0.012152  0.061511  ...  0.016251 -0.015396 -0.046187   \n",
       "123318 -0.067071  0.040530  0.033549  ... -0.053188  0.066029 -0.054341   \n",
       "\n",
       "             293       294       295       296       297       298       299  \n",
       "0       0.070065  0.085830  0.078636 -0.102172  0.010408 -0.030135 -0.037753  \n",
       "1       0.109068  0.058283  0.013682 -0.043249 -0.099561  0.036794 -0.054573  \n",
       "2      -0.123584  0.038293  0.013700 -0.033777 -0.113730 -0.004414 -0.054014  \n",
       "3       0.054026  0.008612 -0.126125  0.047114 -0.031705  0.052752  0.041900  \n",
       "4       0.075983 -0.066244 -0.052001  0.032396 -0.151554 -0.021241  0.079173  \n",
       "...          ...       ...       ...       ...       ...       ...       ...  \n",
       "123314 -0.014036  0.037827 -0.142692  0.014051 -0.091709 -0.045092  0.003989  \n",
       "123315 -0.113097 -0.071780 -0.022468  0.065633 -0.035754  0.089151 -0.030234  \n",
       "123316 -0.053121 -0.112075 -0.038612 -0.035320 -0.008348  0.014798  0.019210  \n",
       "123317  0.024733 -0.042017 -0.030256 -0.003564 -0.111190 -0.021062  0.085531  \n",
       "123318  0.032513 -0.059244  0.044915 -0.007112 -0.016551 -0.029734  0.028921  \n",
       "\n",
       "[123319 rows x 300 columns]"
      ]
     },
     "execution_count": 41,
     "metadata": {},
     "output_type": "execute_result"
    }
   ],
   "source": [
    "tempX"
   ]
  },
  {
   "cell_type": "code",
   "execution_count": 42,
   "metadata": {},
   "outputs": [],
   "source": [
    "newdf = pd.concat([tempX,df],axis = 1)"
   ]
  },
  {
   "cell_type": "code",
   "execution_count": 43,
   "metadata": {},
   "outputs": [
    {
     "data": {
      "text/plain": [
       "0           149\n",
       "1           149\n",
       "2           149\n",
       "3           149\n",
       "4           149\n",
       "           ... \n",
       "297         149\n",
       "298         149\n",
       "299         149\n",
       "category      0\n",
       "headline      0\n",
       "Length: 302, dtype: int64"
      ]
     },
     "execution_count": 43,
     "metadata": {},
     "output_type": "execute_result"
    }
   ],
   "source": [
    "newdf.isnull().sum()"
   ]
  },
  {
   "cell_type": "code",
   "execution_count": 104,
   "metadata": {},
   "outputs": [],
   "source": [
    "newdf.dropna(axis = 0,inplace = True)"
   ]
  },
  {
   "cell_type": "code",
   "execution_count": 44,
   "metadata": {},
   "outputs": [],
   "source": [
    "newdf['category_encoded'] = LabelEncoder().fit_transform(newdf['category'])"
   ]
  },
  {
   "cell_type": "code",
   "execution_count": 45,
   "metadata": {},
   "outputs": [
    {
     "data": {
      "text/html": [
       "<div>\n",
       "<style scoped>\n",
       "    .dataframe tbody tr th:only-of-type {\n",
       "        vertical-align: middle;\n",
       "    }\n",
       "\n",
       "    .dataframe tbody tr th {\n",
       "        vertical-align: top;\n",
       "    }\n",
       "\n",
       "    .dataframe thead th {\n",
       "        text-align: right;\n",
       "    }\n",
       "</style>\n",
       "<table border=\"1\" class=\"dataframe\">\n",
       "  <thead>\n",
       "    <tr style=\"text-align: right;\">\n",
       "      <th></th>\n",
       "      <th>0</th>\n",
       "      <th>1</th>\n",
       "      <th>2</th>\n",
       "      <th>3</th>\n",
       "      <th>4</th>\n",
       "      <th>5</th>\n",
       "      <th>6</th>\n",
       "      <th>7</th>\n",
       "      <th>8</th>\n",
       "      <th>9</th>\n",
       "      <th>...</th>\n",
       "      <th>293</th>\n",
       "      <th>294</th>\n",
       "      <th>295</th>\n",
       "      <th>296</th>\n",
       "      <th>297</th>\n",
       "      <th>298</th>\n",
       "      <th>299</th>\n",
       "      <th>category</th>\n",
       "      <th>headline</th>\n",
       "      <th>category_encoded</th>\n",
       "    </tr>\n",
       "  </thead>\n",
       "  <tbody>\n",
       "    <tr>\n",
       "      <th>0</th>\n",
       "      <td>-0.039386</td>\n",
       "      <td>0.042379</td>\n",
       "      <td>-0.031393</td>\n",
       "      <td>0.078908</td>\n",
       "      <td>-0.074386</td>\n",
       "      <td>-0.016122</td>\n",
       "      <td>0.009659</td>\n",
       "      <td>-0.056324</td>\n",
       "      <td>0.045236</td>\n",
       "      <td>-0.008571</td>\n",
       "      <td>...</td>\n",
       "      <td>0.070065</td>\n",
       "      <td>0.085830</td>\n",
       "      <td>0.078636</td>\n",
       "      <td>-0.102172</td>\n",
       "      <td>0.010408</td>\n",
       "      <td>-0.030135</td>\n",
       "      <td>-0.037753</td>\n",
       "      <td>LIFESTYLE AND WELLNESS</td>\n",
       "      <td>special delivery</td>\n",
       "      <td>0</td>\n",
       "    </tr>\n",
       "    <tr>\n",
       "      <th>1</th>\n",
       "      <td>0.025818</td>\n",
       "      <td>-0.013682</td>\n",
       "      <td>0.021837</td>\n",
       "      <td>0.058051</td>\n",
       "      <td>-0.046843</td>\n",
       "      <td>0.054496</td>\n",
       "      <td>-0.046572</td>\n",
       "      <td>-0.054418</td>\n",
       "      <td>0.106518</td>\n",
       "      <td>0.043442</td>\n",
       "      <td>...</td>\n",
       "      <td>0.109068</td>\n",
       "      <td>0.058283</td>\n",
       "      <td>0.013682</td>\n",
       "      <td>-0.043249</td>\n",
       "      <td>-0.099561</td>\n",
       "      <td>0.036794</td>\n",
       "      <td>-0.054573</td>\n",
       "      <td>TRAVEL-TOURISM AND ART-CULTURE</td>\n",
       "      <td>how deal with lost restaurant reservation</td>\n",
       "      <td>3</td>\n",
       "    </tr>\n",
       "  </tbody>\n",
       "</table>\n",
       "<p>2 rows × 303 columns</p>\n",
       "</div>"
      ],
      "text/plain": [
       "          0         1         2         3         4         5         6  \\\n",
       "0 -0.039386  0.042379 -0.031393  0.078908 -0.074386 -0.016122  0.009659   \n",
       "1  0.025818 -0.013682  0.021837  0.058051 -0.046843  0.054496 -0.046572   \n",
       "\n",
       "          7         8         9  ...       293       294       295       296  \\\n",
       "0 -0.056324  0.045236 -0.008571  ...  0.070065  0.085830  0.078636 -0.102172   \n",
       "1 -0.054418  0.106518  0.043442  ...  0.109068  0.058283  0.013682 -0.043249   \n",
       "\n",
       "        297       298       299                        category  \\\n",
       "0  0.010408 -0.030135 -0.037753          LIFESTYLE AND WELLNESS   \n",
       "1 -0.099561  0.036794 -0.054573  TRAVEL-TOURISM AND ART-CULTURE   \n",
       "\n",
       "                                    headline  category_encoded  \n",
       "0                           special delivery                 0  \n",
       "1  how deal with lost restaurant reservation                 3  \n",
       "\n",
       "[2 rows x 303 columns]"
      ]
     },
     "execution_count": 45,
     "metadata": {},
     "output_type": "execute_result"
    }
   ],
   "source": [
    "newdf.head(2)"
   ]
  },
  {
   "cell_type": "code",
   "execution_count": 46,
   "metadata": {},
   "outputs": [
    {
     "data": {
      "text/plain": [
       "(123319, 303)"
      ]
     },
     "execution_count": 46,
     "metadata": {},
     "output_type": "execute_result"
    }
   ],
   "source": [
    "newdf.shape"
   ]
  },
  {
   "cell_type": "code",
   "execution_count": null,
   "metadata": {},
   "outputs": [],
   "source": [
    "newdf.to_csv('finale_features.csv')"
   ]
  },
  {
   "cell_type": "code",
   "execution_count": 5,
   "metadata": {},
   "outputs": [],
   "source": [
    "newdf = pd.read_csv('finale_features.csv')"
   ]
  },
  {
   "cell_type": "code",
   "execution_count": 25,
   "metadata": {},
   "outputs": [
    {
     "data": {
      "text/plain": [
       "0    special delivery\n",
       "Name: headline, dtype: object"
      ]
     },
     "execution_count": 25,
     "metadata": {},
     "output_type": "execute_result"
    }
   ],
   "source": [
    "newdf['headline'][:1]"
   ]
  },
  {
   "cell_type": "code",
   "execution_count": 7,
   "metadata": {},
   "outputs": [],
   "source": [
    "newdf.drop('Unnamed: 0',axis = 1,inplace = True)"
   ]
  },
  {
   "cell_type": "code",
   "execution_count": 8,
   "metadata": {},
   "outputs": [
    {
     "data": {
      "text/html": [
       "<div>\n",
       "<style scoped>\n",
       "    .dataframe tbody tr th:only-of-type {\n",
       "        vertical-align: middle;\n",
       "    }\n",
       "\n",
       "    .dataframe tbody tr th {\n",
       "        vertical-align: top;\n",
       "    }\n",
       "\n",
       "    .dataframe thead th {\n",
       "        text-align: right;\n",
       "    }\n",
       "</style>\n",
       "<table border=\"1\" class=\"dataframe\">\n",
       "  <thead>\n",
       "    <tr style=\"text-align: right;\">\n",
       "      <th></th>\n",
       "      <th>0</th>\n",
       "      <th>1</th>\n",
       "      <th>2</th>\n",
       "      <th>3</th>\n",
       "      <th>4</th>\n",
       "      <th>5</th>\n",
       "      <th>6</th>\n",
       "      <th>7</th>\n",
       "      <th>8</th>\n",
       "      <th>9</th>\n",
       "      <th>...</th>\n",
       "      <th>293</th>\n",
       "      <th>294</th>\n",
       "      <th>295</th>\n",
       "      <th>296</th>\n",
       "      <th>297</th>\n",
       "      <th>298</th>\n",
       "      <th>299</th>\n",
       "      <th>category</th>\n",
       "      <th>headline</th>\n",
       "      <th>category_encoded</th>\n",
       "    </tr>\n",
       "  </thead>\n",
       "  <tbody>\n",
       "    <tr>\n",
       "      <th>0</th>\n",
       "      <td>-0.039386</td>\n",
       "      <td>0.042379</td>\n",
       "      <td>-0.031393</td>\n",
       "      <td>0.078908</td>\n",
       "      <td>-0.074386</td>\n",
       "      <td>-0.016122</td>\n",
       "      <td>0.009659</td>\n",
       "      <td>-0.056324</td>\n",
       "      <td>0.045236</td>\n",
       "      <td>-0.008571</td>\n",
       "      <td>...</td>\n",
       "      <td>0.070065</td>\n",
       "      <td>0.085830</td>\n",
       "      <td>0.078636</td>\n",
       "      <td>-0.102172</td>\n",
       "      <td>0.010408</td>\n",
       "      <td>-0.030135</td>\n",
       "      <td>-0.037753</td>\n",
       "      <td>LIFESTYLE AND WELLNESS</td>\n",
       "      <td>special delivery</td>\n",
       "      <td>0</td>\n",
       "    </tr>\n",
       "    <tr>\n",
       "      <th>1</th>\n",
       "      <td>0.025818</td>\n",
       "      <td>-0.013682</td>\n",
       "      <td>0.021837</td>\n",
       "      <td>0.058051</td>\n",
       "      <td>-0.046843</td>\n",
       "      <td>0.054496</td>\n",
       "      <td>-0.046572</td>\n",
       "      <td>-0.054418</td>\n",
       "      <td>0.106518</td>\n",
       "      <td>0.043442</td>\n",
       "      <td>...</td>\n",
       "      <td>0.109068</td>\n",
       "      <td>0.058283</td>\n",
       "      <td>0.013682</td>\n",
       "      <td>-0.043249</td>\n",
       "      <td>-0.099561</td>\n",
       "      <td>0.036794</td>\n",
       "      <td>-0.054573</td>\n",
       "      <td>TRAVEL-TOURISM AND ART-CULTURE</td>\n",
       "      <td>how deal with lost restaurant reservation</td>\n",
       "      <td>3</td>\n",
       "    </tr>\n",
       "    <tr>\n",
       "      <th>2</th>\n",
       "      <td>0.010420</td>\n",
       "      <td>0.038533</td>\n",
       "      <td>0.083061</td>\n",
       "      <td>0.083553</td>\n",
       "      <td>-0.023260</td>\n",
       "      <td>-0.108668</td>\n",
       "      <td>0.022049</td>\n",
       "      <td>-0.021601</td>\n",
       "      <td>0.093530</td>\n",
       "      <td>0.180234</td>\n",
       "      <td>...</td>\n",
       "      <td>-0.123584</td>\n",
       "      <td>0.038293</td>\n",
       "      <td>0.013700</td>\n",
       "      <td>-0.033777</td>\n",
       "      <td>-0.113730</td>\n",
       "      <td>-0.004414</td>\n",
       "      <td>-0.054014</td>\n",
       "      <td>SPORTS AND ENTERTAINMENT</td>\n",
       "      <td>nfl champs open season with anthem fail</td>\n",
       "      <td>2</td>\n",
       "    </tr>\n",
       "    <tr>\n",
       "      <th>3</th>\n",
       "      <td>-0.001583</td>\n",
       "      <td>-0.048330</td>\n",
       "      <td>-0.059423</td>\n",
       "      <td>0.116162</td>\n",
       "      <td>-0.040500</td>\n",
       "      <td>0.123576</td>\n",
       "      <td>-0.033597</td>\n",
       "      <td>-0.068894</td>\n",
       "      <td>0.050010</td>\n",
       "      <td>0.003862</td>\n",
       "      <td>...</td>\n",
       "      <td>0.054026</td>\n",
       "      <td>0.008612</td>\n",
       "      <td>-0.126125</td>\n",
       "      <td>0.047114</td>\n",
       "      <td>-0.031705</td>\n",
       "      <td>0.052752</td>\n",
       "      <td>0.041900</td>\n",
       "      <td>TRAVEL-TOURISM AND ART-CULTURE</td>\n",
       "      <td>how decode wine label</td>\n",
       "      <td>3</td>\n",
       "    </tr>\n",
       "    <tr>\n",
       "      <th>4</th>\n",
       "      <td>0.012898</td>\n",
       "      <td>0.031927</td>\n",
       "      <td>0.029007</td>\n",
       "      <td>0.021951</td>\n",
       "      <td>-0.028630</td>\n",
       "      <td>-0.088917</td>\n",
       "      <td>-0.007211</td>\n",
       "      <td>0.001620</td>\n",
       "      <td>0.109752</td>\n",
       "      <td>0.044028</td>\n",
       "      <td>...</td>\n",
       "      <td>0.075983</td>\n",
       "      <td>-0.066244</td>\n",
       "      <td>-0.052001</td>\n",
       "      <td>0.032396</td>\n",
       "      <td>-0.151554</td>\n",
       "      <td>-0.021241</td>\n",
       "      <td>0.079173</td>\n",
       "      <td>POLITICS</td>\n",
       "      <td>daniel donovan, prosecutor who failed to indic...</td>\n",
       "      <td>1</td>\n",
       "    </tr>\n",
       "  </tbody>\n",
       "</table>\n",
       "<p>5 rows × 303 columns</p>\n",
       "</div>"
      ],
      "text/plain": [
       "          0         1         2         3         4         5         6  \\\n",
       "0 -0.039386  0.042379 -0.031393  0.078908 -0.074386 -0.016122  0.009659   \n",
       "1  0.025818 -0.013682  0.021837  0.058051 -0.046843  0.054496 -0.046572   \n",
       "2  0.010420  0.038533  0.083061  0.083553 -0.023260 -0.108668  0.022049   \n",
       "3 -0.001583 -0.048330 -0.059423  0.116162 -0.040500  0.123576 -0.033597   \n",
       "4  0.012898  0.031927  0.029007  0.021951 -0.028630 -0.088917 -0.007211   \n",
       "\n",
       "          7         8         9  ...       293       294       295       296  \\\n",
       "0 -0.056324  0.045236 -0.008571  ...  0.070065  0.085830  0.078636 -0.102172   \n",
       "1 -0.054418  0.106518  0.043442  ...  0.109068  0.058283  0.013682 -0.043249   \n",
       "2 -0.021601  0.093530  0.180234  ... -0.123584  0.038293  0.013700 -0.033777   \n",
       "3 -0.068894  0.050010  0.003862  ...  0.054026  0.008612 -0.126125  0.047114   \n",
       "4  0.001620  0.109752  0.044028  ...  0.075983 -0.066244 -0.052001  0.032396   \n",
       "\n",
       "        297       298       299                        category  \\\n",
       "0  0.010408 -0.030135 -0.037753          LIFESTYLE AND WELLNESS   \n",
       "1 -0.099561  0.036794 -0.054573  TRAVEL-TOURISM AND ART-CULTURE   \n",
       "2 -0.113730 -0.004414 -0.054014        SPORTS AND ENTERTAINMENT   \n",
       "3 -0.031705  0.052752  0.041900  TRAVEL-TOURISM AND ART-CULTURE   \n",
       "4 -0.151554 -0.021241  0.079173                        POLITICS   \n",
       "\n",
       "                                            headline  category_encoded  \n",
       "0                                   special delivery                 0  \n",
       "1          how deal with lost restaurant reservation                 3  \n",
       "2            nfl champs open season with anthem fail                 2  \n",
       "3                              how decode wine label                 3  \n",
       "4  daniel donovan, prosecutor who failed to indic...                 1  \n",
       "\n",
       "[5 rows x 303 columns]"
      ]
     },
     "execution_count": 8,
     "metadata": {},
     "output_type": "execute_result"
    }
   ],
   "source": [
    "newdf.head()"
   ]
  },
  {
   "cell_type": "code",
   "execution_count": 9,
   "metadata": {},
   "outputs": [
    {
     "data": {
      "text/plain": [
       "0                   0\n",
       "1                   0\n",
       "2                   0\n",
       "3                   0\n",
       "4                   0\n",
       "                   ..\n",
       "298                 0\n",
       "299                 0\n",
       "category            0\n",
       "headline            0\n",
       "category_encoded    0\n",
       "Length: 303, dtype: int64"
      ]
     },
     "execution_count": 9,
     "metadata": {},
     "output_type": "execute_result"
    }
   ],
   "source": [
    "newdf.isnull().sum()"
   ]
  },
  {
   "cell_type": "code",
   "execution_count": 10,
   "metadata": {},
   "outputs": [
    {
     "data": {
      "text/plain": [
       "(123170, 303)"
      ]
     },
     "execution_count": 10,
     "metadata": {},
     "output_type": "execute_result"
    }
   ],
   "source": [
    "newdf.shape"
   ]
  },
  {
   "cell_type": "code",
   "execution_count": 11,
   "metadata": {},
   "outputs": [],
   "source": [
    "X = newdf.iloc[:,0:300]"
   ]
  },
  {
   "cell_type": "code",
   "execution_count": 12,
   "metadata": {},
   "outputs": [
    {
     "data": {
      "text/plain": [
       "0      0\n",
       "1      0\n",
       "2      0\n",
       "3      0\n",
       "4      0\n",
       "      ..\n",
       "295    0\n",
       "296    0\n",
       "297    0\n",
       "298    0\n",
       "299    0\n",
       "Length: 300, dtype: int64"
      ]
     },
     "execution_count": 12,
     "metadata": {},
     "output_type": "execute_result"
    }
   ],
   "source": [
    "X.isnull().sum()"
   ]
  },
  {
   "cell_type": "code",
   "execution_count": 13,
   "metadata": {},
   "outputs": [],
   "source": [
    "y = newdf['category_encoded']"
   ]
  },
  {
   "cell_type": "markdown",
   "metadata": {},
   "source": [
    "### Model Training"
   ]
  },
  {
   "cell_type": "code",
   "execution_count": 14,
   "metadata": {},
   "outputs": [],
   "source": [
    "X_train,X_test,y_train,y_test = train_test_split(X,y,stratify=y,test_size=0.1,shuffle = True)"
   ]
  },
  {
   "cell_type": "code",
   "execution_count": 15,
   "metadata": {},
   "outputs": [
    {
     "data": {
      "text/plain": [
       "(110853, 300)"
      ]
     },
     "execution_count": 15,
     "metadata": {},
     "output_type": "execute_result"
    }
   ],
   "source": [
    "X_train.shape"
   ]
  },
  {
   "cell_type": "code",
   "execution_count": 16,
   "metadata": {},
   "outputs": [
    {
     "data": {
      "text/plain": [
       "(12317, 300)"
      ]
     },
     "execution_count": 16,
     "metadata": {},
     "output_type": "execute_result"
    }
   ],
   "source": [
    "X_test.shape"
   ]
  },
  {
   "cell_type": "code",
   "execution_count": 17,
   "metadata": {},
   "outputs": [
    {
     "data": {
      "text/plain": [
       "(110853,)"
      ]
     },
     "execution_count": 17,
     "metadata": {},
     "output_type": "execute_result"
    }
   ],
   "source": [
    "y_train.shape"
   ]
  },
  {
   "cell_type": "code",
   "execution_count": 18,
   "metadata": {},
   "outputs": [
    {
     "data": {
      "text/plain": [
       "(12317,)"
      ]
     },
     "execution_count": 18,
     "metadata": {},
     "output_type": "execute_result"
    }
   ],
   "source": [
    "y_test.shape"
   ]
  },
  {
   "cell_type": "code",
   "execution_count": 19,
   "metadata": {},
   "outputs": [],
   "source": [
    "def plot_confusion_matrix(test_y, predict_y):\n",
    "    C = confusion_matrix(test_y, predict_y)\n",
    "    # C = 9,9 matrix, each cell (i,j) represents number of points of class i are predicted class j\n",
    "    \n",
    "    A =(((C.T)/(C.sum(axis=1))).T)\n",
    "    #divid each element of the confusion matrix with the sum of elements in that column\n",
    "    \n",
    "    # C = [[1, 2],\n",
    "    #     [3, 4]]\n",
    "    # C.T = [[1, 3],\n",
    "    #        [2, 4]]\n",
    "    # C.sum(axis = 1)  axis=0 corresonds to columns and axis=1 corresponds to rows in two diamensional array\n",
    "    # C.sum(axix =1) = [[3, 7]]\n",
    "    # ((C.T)/(C.sum(axis=1))) = [[1/3, 3/7]\n",
    "    #                           [2/3, 4/7]]\n",
    "\n",
    "    # ((C.T)/(C.sum(axis=1))).T = [[1/3, 2/3]\n",
    "    #                           [3/7, 4/7]]\n",
    "    # sum of row elements = 1\n",
    "    \n",
    "    B =(C/C.sum(axis=0))\n",
    "    #divid each element of the confusion matrix with the sum of elements in that row\n",
    "    # C = [[1, 2],\n",
    "    #     [3, 4]]\n",
    "    # C.sum(axis = 0)  axis=0 corresonds to columns and axis=1 corresponds to rows in two diamensional array\n",
    "    # C.sum(axix =0) = [[4, 6]]\n",
    "    # (C/C.sum(axis=0)) = [[1/4, 2/6],\n",
    "    #                      [3/4, 4/6]] \n",
    "    plt.figure(figsize=(20,4))\n",
    "    \n",
    "    labels = [1,2]\n",
    "    # representing A in heatmap format\n",
    "    cmap=sns.light_palette(\"blue\")\n",
    "    plt.subplot(1, 3, 1)\n",
    "    sns.heatmap(C, annot=True, cmap=cmap, fmt=\".3f\", xticklabels=labels, yticklabels=labels)\n",
    "    plt.xlabel('Predicted Class')\n",
    "    plt.ylabel('Original Class')\n",
    "    plt.title(\"Confusion matrix\")\n",
    "    \n",
    "    plt.subplot(1, 3, 2)\n",
    "    sns.heatmap(B, annot=True, cmap=cmap, fmt=\".3f\", xticklabels=labels, yticklabels=labels)\n",
    "    plt.xlabel('Predicted Class')\n",
    "    plt.ylabel('Original Class')\n",
    "    plt.title(\"Precision matrix\")\n",
    "    \n",
    "    plt.subplot(1, 3, 3)\n",
    "    # representing B in heatmap format\n",
    "    sns.heatmap(A, annot=True, cmap=cmap, fmt=\".3f\", xticklabels=labels, yticklabels=labels)\n",
    "    plt.xlabel('Predicted Class')\n",
    "    plt.ylabel('Original Class')\n",
    "    plt.title(\"Recall matrix\")\n",
    "    \n",
    "    plt.show()"
   ]
  },
  {
   "cell_type": "markdown",
   "metadata": {},
   "source": [
    "### Gaussian Naive Bayes Classifier"
   ]
  },
  {
   "cell_type": "code",
   "execution_count": 117,
   "metadata": {},
   "outputs": [
    {
     "name": "stdout",
     "output_type": "stream",
     "text": [
      "0.7035082496639694\n",
      "0.696760574815296\n",
      "              precision    recall  f1-score   support\n",
      "\n",
      "           0       0.69      0.68      0.69      3990\n",
      "           1       0.85      0.79      0.82      3260\n",
      "           2       0.58      0.66      0.62      3018\n",
      "           3       0.67      0.63      0.65      2049\n",
      "\n",
      "    accuracy                           0.70     12317\n",
      "   macro avg       0.70      0.69      0.69     12317\n",
      "weighted avg       0.70      0.70      0.70     12317\n",
      "\n"
     ]
    },
    {
     "data": {
      "image/png": "[encoded data removed]",
      "text/plain": [
       "<Figure size 1440x288 with 6 Axes>"
      ]
     },
     "metadata": {
      "needs_background": "light"
     },
     "output_type": "display_data"
    }
   ],
   "source": [
    "gnbclf = GaussianNB()\n",
    "gnbclf.fit(X_train,y_train)\n",
    "y_predtrain = gnbclf.predict(X_train)\n",
    "y_pred = gnbclf.predict(X_test)\n",
    "print(accuracy_score(y_train, y_predtrain))\n",
    "print(accuracy_score(y_test, y_pred))\n",
    "print(classification_report(y_test, y_pred))\n",
    "plot_confusion_matrix(y_test, y_pred)"
   ]
  },
  {
   "cell_type": "code",
   "execution_count": 118,
   "metadata": {},
   "outputs": [],
   "source": [
    "import pickle\n",
    "import joblib\n",
    "file = open('GNB.pkl', 'wb') #save model in the pickle file\n",
    "pickle.dump(gnbclf,file) "
   ]
  },
  {
   "cell_type": "markdown",
   "metadata": {},
   "source": [
    "### K-Nearest Neighbors Classifier"
   ]
  },
  {
   "cell_type": "code",
   "execution_count": 29,
   "metadata": {},
   "outputs": [
    {
     "name": "stdout",
     "output_type": "stream",
     "text": [
      "For values of n =  3 The accuracy is: 79.07769749127223\n",
      "For values of n =  5 The accuracy is: 80.08443614516521\n",
      "For values of n =  9 The accuracy is: 80.5634488917756\n",
      "For values of n =  11 The accuracy is: 80.93691645692944\n",
      "For values of n =  17 The accuracy is: 81.16424454006658\n"
     ]
    },
    {
     "data": {
      "image/png": "[encoded data removed]",
      "text/plain": [
       "<Figure size 432x288 with 1 Axes>"
      ]
     },
     "metadata": {
      "needs_background": "light"
     },
     "output_type": "display_data"
    }
   ],
   "source": [
    "n_list = [3,5,9,11,17]\n",
    "acc_score = []\n",
    "for i in n_list:\n",
    "    knn = KNeighborsClassifier(n_neighbors = i)\n",
    "    knn.fit(X_train,y_train)  \n",
    "    y_pred = knn.predict(X_test)\n",
    "    print('For values of n = ', i, \"The accuracy is:\",accuracy_score(y_test, y_pred)*100)\n",
    "    acc_score.append(accuracy_score(y_test, y_pred)*100)\n",
    "\n",
    "fig, ax = plt.subplots()\n",
    "ax.plot(n_list,acc_score,c='g')\n",
    "for i, txt in enumerate(np.round(acc_score,3)):\n",
    "    ax.annotate((n_list[i],np.round(txt,3)), (n_list[i],acc_score[i]))\n",
    "plt.grid()\n",
    "plt.title(\"Accuracy score for each n\")\n",
    "plt.xlabel(\"Number of neighbors\")\n",
    "plt.ylabel(\"Accuracy\")\n",
    "plt.show()"
   ]
  },
  {
   "cell_type": "code",
   "execution_count": 30,
   "metadata": {},
   "outputs": [
    {
     "name": "stdout",
     "output_type": "stream",
     "text": [
      "0.8276726836441053\n",
      "0.8116424454006658\n",
      "              precision    recall  f1-score   support\n",
      "\n",
      "           0       0.79      0.87      0.83      3990\n",
      "           1       0.84      0.89      0.86      3260\n",
      "           2       0.80      0.71      0.75      3018\n",
      "           3       0.83      0.73      0.78      2049\n",
      "\n",
      "    accuracy                           0.81     12317\n",
      "   macro avg       0.81      0.80      0.80     12317\n",
      "weighted avg       0.81      0.81      0.81     12317\n",
      "\n"
     ]
    },
    {
     "data": {
      "image/png": "[encoded data removed]",
      "text/plain": [
       "<Figure size 1440x288 with 6 Axes>"
      ]
     },
     "metadata": {
      "needs_background": "light"
     },
     "output_type": "display_data"
    }
   ],
   "source": [
    "knn = KNeighborsClassifier(n_neighbors = 17)\n",
    "knn.fit(X_train,y_train)\n",
    "y_predtrain = knn.predict(X_train)\n",
    "y_pred = knn.predict(X_test)\n",
    "print(accuracy_score(y_train, y_predtrain))\n",
    "print(accuracy_score(y_test, y_pred))\n",
    "print(classification_report(y_test, y_pred))\n",
    "plot_confusion_matrix(y_test, y_pred)"
   ]
  },
  {
   "cell_type": "code",
   "execution_count": 32,
   "metadata": {},
   "outputs": [],
   "source": [
    "import pickle\n",
    "import joblib\n",
    "file = open('KNN.pkl', 'wb') #save model in the pickle file\n",
    "pickle.dump(knn,file)"
   ]
  },
  {
   "cell_type": "markdown",
   "metadata": {},
   "source": [
    "### Random Forest Classifier"
   ]
  },
  {
   "cell_type": "code",
   "execution_count": 22,
   "metadata": {},
   "outputs": [
    {
     "name": "stdout",
     "output_type": "stream",
     "text": [
      "0.9989265062740746\n",
      "0.751806446374929\n",
      "              precision    recall  f1-score   support\n",
      "\n",
      "           0       0.71      0.86      0.78      3990\n",
      "           1       0.82      0.83      0.83      3260\n",
      "           2       0.70      0.67      0.69      3018\n",
      "           3       0.85      0.53      0.65      2049\n",
      "\n",
      "    accuracy                           0.75     12317\n",
      "   macro avg       0.77      0.72      0.74     12317\n",
      "weighted avg       0.76      0.75      0.75     12317\n",
      "\n"
     ]
    },
    {
     "data": {
      "image/png": "[encoded data removed]",
      "text/plain": [
       "<Figure size 1440x288 with 6 Axes>"
      ]
     },
     "metadata": {
      "needs_background": "light"
     },
     "output_type": "display_data"
    }
   ],
   "source": [
    "# Number of trees in random forest\n",
    "#n_estimators = [200,400,600,800,1000]\n",
    "# Number of features to consider at every split\n",
    "#max_features = ['auto', 'sqrt']\n",
    "# Maximum number of levels in tree\n",
    "#max_depth = [int(x) for x in np.linspace(5, 20, num = 4)]\n",
    "#max_depth.append(None)\n",
    "# Minimum number of samples required to split a node\n",
    "#min_samples_split = [2, 5, 10]\n",
    "# Minimum number of samples required at each leaf node\n",
    "#min_samples_leaf = [1, 2, 4]\n",
    "\n",
    "#random_grid = {'n_estimators': n_estimators,\n",
    "#               'max_features': max_features,\n",
    "#               'max_depth': max_depth,\n",
    "#               'min_samples_split': min_samples_split,\n",
    "#               'min_samples_leaf': min_samples_leaf\n",
    "#               }\n",
    "\n",
    "#acc_score = []\n",
    "#for i in n_estimators:\n",
    "#    rf = RandomForestClassifier(n_estimators = i)\n",
    "#    rf.fit(X_train,y_train)  \n",
    "#    y_pred = rf.predict(X_test)\n",
    "#    print('For values of n = ', i, \"The accuracy is:\",accuracy_score(y_test, y_pred)*100)\n",
    "#    acc_score.append(accuracy_score(y_test, y_pred)*100)\n",
    "\n",
    "#fig, ax = plt.subplots()\n",
    "#ax.plot(n_estimators,acc_score,c='g')\n",
    "#for i, txt in enumerate(np.round(acc_score,3)):\n",
    "#   ax.annotate((n_estimators[i],np.round(txt,3)), (n_estimators[i],acc_score[i]))\n",
    "#plt.grid()\n",
    "#plt.title(\"Accuracy score for each n_estimator\")\n",
    "#plt.xlabel(\"Number of estimators\")\n",
    "#plt.ylabel(\"Accuracy\")\n",
    "#plt.show()\n",
    "rf = RandomForestClassifier()\n",
    "rf.fit(X_train,y_train)\n",
    "y_predtrain = rf.predict(X_train)\n",
    "y_pred = rf.predict(X_test)\n",
    "print(accuracy_score(y_train, y_predtrain))\n",
    "print(accuracy_score(y_test, y_pred))\n",
    "print(classification_report(y_test, y_pred))\n",
    "plot_confusion_matrix(y_test, y_pred)"
   ]
  },
  {
   "cell_type": "code",
   "execution_count": 23,
   "metadata": {},
   "outputs": [],
   "source": [
    "import pickle\n",
    "import joblib\n",
    "file = open('RFC.pkl', 'wb') #save model in the pickle file\n",
    "pickle.dump(rf,file)"
   ]
  },
  {
   "cell_type": "markdown",
   "metadata": {},
   "source": [
    "### XGBoost Classifier"
   ]
  },
  {
   "cell_type": "code",
   "execution_count": 39,
   "metadata": {},
   "outputs": [
    {
     "name": "stdout",
     "output_type": "stream",
     "text": [
      "0.7593299234120863\n",
      "0.7476658277177884\n",
      "              precision    recall  f1-score   support\n",
      "\n",
      "           0       0.73      0.81      0.77      3990\n",
      "           1       0.82      0.83      0.82      3260\n",
      "           2       0.67      0.68      0.68      3018\n",
      "           3       0.78      0.60      0.68      2049\n",
      "\n",
      "    accuracy                           0.75     12317\n",
      "   macro avg       0.75      0.73      0.74     12317\n",
      "weighted avg       0.75      0.75      0.75     12317\n",
      "\n"
     ]
    },
    {
     "data": {
      "image/png": "[encoded data removed]",
      "text/plain": [
       "<Figure size 1440x288 with 6 Axes>"
      ]
     },
     "metadata": {
      "needs_background": "light"
     },
     "output_type": "display_data"
    }
   ],
   "source": [
    "import xgboost as xgb\n",
    "xgclf=xgb.XGBClassifier()\n",
    "xgclf.fit(X_train,y_train)\n",
    "y_predtrain = xgclf.predict(X_train)\n",
    "y_pred = xgclf.predict(X_test)\n",
    "print(accuracy_score(y_train, y_predtrain))\n",
    "print(accuracy_score(y_test, y_pred))\n",
    "print(classification_report(y_test, y_pred))\n",
    "plot_confusion_matrix(y_test, y_pred)"
   ]
  },
  {
   "cell_type": "code",
   "execution_count": 46,
   "metadata": {},
   "outputs": [],
   "source": [
    "import cloudpickle as cp\n",
    "import pickle\n",
    "import joblib\n",
    "file = open('XGB.pkl', 'wb') #save model in the pickle file\n",
    "cp.dump(xgclf,file)"
   ]
  },
  {
   "cell_type": "code",
   "execution_count": 26,
   "metadata": {},
   "outputs": [
    {
     "data": {
      "text/html": [
       "<div>\n",
       "<style scoped>\n",
       "    .dataframe tbody tr th:only-of-type {\n",
       "        vertical-align: middle;\n",
       "    }\n",
       "\n",
       "    .dataframe tbody tr th {\n",
       "        vertical-align: top;\n",
       "    }\n",
       "\n",
       "    .dataframe thead th {\n",
       "        text-align: right;\n",
       "    }\n",
       "</style>\n",
       "<table border=\"1\" class=\"dataframe\">\n",
       "  <thead>\n",
       "    <tr style=\"text-align: right;\">\n",
       "      <th></th>\n",
       "      <th>headline</th>\n",
       "    </tr>\n",
       "  </thead>\n",
       "  <tbody>\n",
       "    <tr>\n",
       "      <th>0</th>\n",
       "      <td>special delivery</td>\n",
       "    </tr>\n",
       "  </tbody>\n",
       "</table>\n",
       "</div>"
      ],
      "text/plain": [
       "           headline\n",
       "0  special delivery"
      ]
     },
     "execution_count": 26,
     "metadata": {},
     "output_type": "execute_result"
    }
   ],
   "source": [
    "headline = 'special delivery'\n",
    "a = {'headline': headline}\n",
    "testdf = pd.DataFrame(a,columns = ['headline'],index=[0])\n",
    "testdf"
   ]
  },
  {
   "cell_type": "code",
   "execution_count": 27,
   "metadata": {},
   "outputs": [],
   "source": [
    "headline_vector = np.zeros((testdf.shape[0], 300))\n",
    "for i, q in enumerate(testdf.headline.values):\n",
    "    headline_vector[i, :] = sent2vec(q)"
   ]
  },
  {
   "cell_type": "code",
   "execution_count": 28,
   "metadata": {},
   "outputs": [
    {
     "name": "stdout",
     "output_type": "stream",
     "text": [
      "        0         1         2         3         4         5         6    \\\n",
      "0 -0.039386  0.042379 -0.031393  0.078908 -0.074386 -0.016122  0.009659   \n",
      "\n",
      "        7         8         9    ...       290       291       292       293  \\\n",
      "0 -0.056324  0.045236 -0.008571  ...  0.038638 -0.134416 -0.018843  0.070065   \n",
      "\n",
      "       294       295       296       297       298       299  \n",
      "0  0.08583  0.078636 -0.102172  0.010408 -0.030135 -0.037753  \n",
      "\n",
      "[1 rows x 300 columns]\n"
     ]
    }
   ],
   "source": [
    "xhead = pd.DataFrame(headline_vector)\n"
   ]
  },
  {
   "cell_type": "code",
   "execution_count": 29,
   "metadata": {},
   "outputs": [
    {
     "data": {
      "text/html": [
       "<div>\n",
       "<style scoped>\n",
       "    .dataframe tbody tr th:only-of-type {\n",
       "        vertical-align: middle;\n",
       "    }\n",
       "\n",
       "    .dataframe tbody tr th {\n",
       "        vertical-align: top;\n",
       "    }\n",
       "\n",
       "    .dataframe thead th {\n",
       "        text-align: right;\n",
       "    }\n",
       "</style>\n",
       "<table border=\"1\" class=\"dataframe\">\n",
       "  <thead>\n",
       "    <tr style=\"text-align: right;\">\n",
       "      <th></th>\n",
       "      <th>0</th>\n",
       "      <th>1</th>\n",
       "      <th>2</th>\n",
       "      <th>3</th>\n",
       "      <th>4</th>\n",
       "      <th>5</th>\n",
       "      <th>6</th>\n",
       "      <th>7</th>\n",
       "      <th>8</th>\n",
       "      <th>9</th>\n",
       "      <th>...</th>\n",
       "      <th>290</th>\n",
       "      <th>291</th>\n",
       "      <th>292</th>\n",
       "      <th>293</th>\n",
       "      <th>294</th>\n",
       "      <th>295</th>\n",
       "      <th>296</th>\n",
       "      <th>297</th>\n",
       "      <th>298</th>\n",
       "      <th>299</th>\n",
       "    </tr>\n",
       "  </thead>\n",
       "  <tbody>\n",
       "    <tr>\n",
       "      <th>0</th>\n",
       "      <td>-0.039386</td>\n",
       "      <td>0.042379</td>\n",
       "      <td>-0.031393</td>\n",
       "      <td>0.078908</td>\n",
       "      <td>-0.074386</td>\n",
       "      <td>-0.016122</td>\n",
       "      <td>0.009659</td>\n",
       "      <td>-0.056324</td>\n",
       "      <td>0.045236</td>\n",
       "      <td>-0.008571</td>\n",
       "      <td>...</td>\n",
       "      <td>0.038638</td>\n",
       "      <td>-0.134416</td>\n",
       "      <td>-0.018843</td>\n",
       "      <td>0.070065</td>\n",
       "      <td>0.08583</td>\n",
       "      <td>0.078636</td>\n",
       "      <td>-0.102172</td>\n",
       "      <td>0.010408</td>\n",
       "      <td>-0.030135</td>\n",
       "      <td>-0.037753</td>\n",
       "    </tr>\n",
       "  </tbody>\n",
       "</table>\n",
       "<p>1 rows × 300 columns</p>\n",
       "</div>"
      ],
      "text/plain": [
       "        0         1         2         3         4         5         6    \\\n",
       "0 -0.039386  0.042379 -0.031393  0.078908 -0.074386 -0.016122  0.009659   \n",
       "\n",
       "        7         8         9    ...       290       291       292       293  \\\n",
       "0 -0.056324  0.045236 -0.008571  ...  0.038638 -0.134416 -0.018843  0.070065   \n",
       "\n",
       "       294       295       296       297       298       299  \n",
       "0  0.08583  0.078636 -0.102172  0.010408 -0.030135 -0.037753  \n",
       "\n",
       "[1 rows x 300 columns]"
      ]
     },
     "execution_count": 29,
     "metadata": {},
     "output_type": "execute_result"
    }
   ],
   "source": [
    "xhead"
   ]
  },
  {
   "cell_type": "code",
   "execution_count": 33,
   "metadata": {},
   "outputs": [],
   "source": [
    "pickle_model=pickle.load(open('RFC.pkl','rb'))"
   ]
  },
  {
   "cell_type": "code",
   "execution_count": 34,
   "metadata": {},
   "outputs": [],
   "source": [
    "ypred = pickle_model.predict(xhead)"
   ]
  },
  {
   "cell_type": "code",
   "execution_count": 35,
   "metadata": {},
   "outputs": [
    {
     "data": {
      "text/plain": [
       "array([0], dtype=int64)"
      ]
     },
     "execution_count": 35,
     "metadata": {},
     "output_type": "execute_result"
    }
   ],
   "source": [
    "ypred"
   ]
  },
  {
   "cell_type": "code",
   "execution_count": 49,
   "metadata": {},
   "outputs": [],
   "source": [
    "pickle_model=pickle.load(open('GNB.pkl','rb'))"
   ]
  },
  {
   "cell_type": "code",
   "execution_count": 50,
   "metadata": {},
   "outputs": [],
   "source": [
    "ypred = pickle_model.predict(xhead)"
   ]
  },
  {
   "cell_type": "code",
   "execution_count": 51,
   "metadata": {},
   "outputs": [
    {
     "data": {
      "text/plain": [
       "array([0])"
      ]
     },
     "execution_count": 51,
     "metadata": {},
     "output_type": "execute_result"
    }
   ],
   "source": [
    "ypred"
   ]
  },
  {
   "cell_type": "code",
   "execution_count": null,
   "metadata": {},
   "outputs": [],
   "source": []
  },
  {
   "cell_type": "code",
   "execution_count": null,
   "metadata": {},
   "outputs": [],
   "source": []
  },
  {
   "cell_type": "code",
   "execution_count": null,
   "metadata": {},
   "outputs": [],
   "source": []
  }
 ],
 "metadata": {
  "kernelspec": {
   "display_name": "TensorFlow",
   "language": "python",
   "name": "tensorflowenv"
  },
  "language_info": {
   "codemirror_mode": {
    "name": "ipython",
    "version": 3
   },
   "file_extension": ".py",
   "mimetype": "text/x-python",
   "name": "python",
   "nbconvert_exporter": "python",
   "pygments_lexer": "ipython3",
   "version": "3.7.0"
  }
 },
 "nbformat": 4,
 "nbformat_minor": 4
}
